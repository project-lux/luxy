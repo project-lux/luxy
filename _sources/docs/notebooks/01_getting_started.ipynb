{
 "cells": [
  {
   "cell_type": "markdown",
   "metadata": {},
   "source": [
    "## Installing LuxY"
   ]
  },
  {
   "cell_type": "code",
   "execution_count": 1,
   "metadata": {},
   "outputs": [
    {
     "name": "stdout",
     "output_type": "stream",
     "text": [
      "Collecting luxy\n",
      "  Downloading luxy-0.0.2-py3-none-any.whl.metadata (7.9 kB)\n",
      "Requirement already satisfied: requests>=2.25.0 in /opt/anaconda3/lib/python3.12/site-packages (from luxy) (2.32.3)\n",
      "Requirement already satisfied: charset-normalizer<4,>=2 in /opt/anaconda3/lib/python3.12/site-packages (from requests>=2.25.0->luxy) (3.3.2)\n",
      "Requirement already satisfied: idna<4,>=2.5 in /opt/anaconda3/lib/python3.12/site-packages (from requests>=2.25.0->luxy) (3.7)\n",
      "Requirement already satisfied: urllib3<3,>=1.21.1 in /opt/anaconda3/lib/python3.12/site-packages (from requests>=2.25.0->luxy) (2.2.3)\n",
      "Requirement already satisfied: certifi>=2017.4.17 in /opt/anaconda3/lib/python3.12/site-packages (from requests>=2.25.0->luxy) (2024.8.30)\n",
      "Downloading luxy-0.0.2-py3-none-any.whl (11 kB)\n",
      "Installing collected packages: luxy\n",
      "Successfully installed luxy-0.0.2\n"
     ]
    }
   ],
   "source": [
    "!pip install luxy --upgrade"
   ]
  },
  {
   "cell_type": "markdown",
   "metadata": {},
   "source": [
    "## Importing LuxY"
   ]
  },
  {
   "cell_type": "code",
   "execution_count": 6,
   "metadata": {},
   "outputs": [],
   "source": [
    "from luxy import PeopleGroups"
   ]
  },
  {
   "cell_type": "markdown",
   "metadata": {},
   "source": [
    "## Getting Options for Filters"
   ]
  },
  {
   "cell_type": "code",
   "execution_count": 4,
   "metadata": {},
   "outputs": [
    {
     "data": {
      "text/plain": [
       "{'name': {'label': 'Name',\n",
       "  'description': 'Enter term(s) to be found within the title or name of the Person or Group. \"AND\", \"OR\", and \"-\" do not have special meaning in Advanced Search as they do in Simple Search. Instead use multiple fields connected with \"have All of\", \"have Any of\", and \"have None of\" respectively.',\n",
       "  'relation': 'text',\n",
       "  'allowedOptionsName': 'keyword',\n",
       "  'defaultOptionsName': 'keyword'},\n",
       " 'text': {'label': 'Anywhere',\n",
       "  'description': 'Search for People & Groups by terms anywhere in the record. \"AND\", \"OR\", and \"-\" do not have special meaning in Advanced Search as they do in Simple Search. Instead use multiple fields connected with \"have All of\", \"have Any of\", and \"have None of\" respectively.',\n",
       "  'relation': 'text',\n",
       "  'allowedOptionsName': 'keyword',\n",
       "  'defaultOptionsName': 'keyword'},\n",
       " 'startAt': {'label': 'Born/Formed At',\n",
       "  'description': 'Search for People & Groups that were born or formed in the specified Place.',\n",
       "  'relation': 'place',\n",
       "  'allowedOptionsName': 'keyword',\n",
       "  'defaultOptionsName': 'keyword'},\n",
       " 'startDate': {'label': 'Born/Formed Date',\n",
       "  'description': 'Search People & Groups by the date on which they were born or formed.',\n",
       "  'relation': 'date',\n",
       "  'allowedOptionsName': 'Unknown type',\n",
       "  'defaultOptionsName': 'Unknown type'},\n",
       " 'carriedOut': {'label': 'Carried Out',\n",
       "  'description': 'Search for People & Groups that carried out the specified Event.',\n",
       "  'relation': 'event',\n",
       "  'allowedOptionsName': 'Unknown type',\n",
       "  'defaultOptionsName': 'Unknown type'},\n",
       " 'classification': {'label': 'Categorized As',\n",
       "  'description': 'Search for People & Groups that are categorized with the specified Concept or Type terms.',\n",
       "  'relation': 'concept',\n",
       "  'allowedOptionsName': 'keyword',\n",
       "  'defaultOptionsName': 'keyword'},\n",
       " 'produced': {'label': 'Created Object',\n",
       "  'description': 'Search for People & Groups that created the specified Objects.',\n",
       "  'relation': 'item',\n",
       "  'allowedOptionsName': 'Unknown type',\n",
       "  'defaultOptionsName': 'Unknown type'},\n",
       " 'created': {'label': 'Created Works',\n",
       "  'description': 'Search for People & Groups that authored or created the specified Works.',\n",
       "  'relation': 'work',\n",
       "  'allowedOptionsName': 'Unknown type',\n",
       "  'defaultOptionsName': 'Unknown type'},\n",
       " 'curated': {'label': 'Curated',\n",
       "  'description': \"Search for Groups responsible for the curation of Yale's collections.\",\n",
       "  'relation': 'set',\n",
       "  'allowedOptionsName': 'Unknown type',\n",
       "  'defaultOptionsName': 'Unknown type'},\n",
       " 'endAt': {'label': 'Died/Dissolved At',\n",
       "  'description': 'Search for People & Groups that died or were dissolved in the specified Place.',\n",
       "  'relation': 'place',\n",
       "  'allowedOptionsName': 'keyword',\n",
       "  'defaultOptionsName': 'keyword'},\n",
       " 'endDate': {'label': 'Died/Dissolved Date',\n",
       "  'description': 'Search for People & Groups by the date on which they died or were dissolved.',\n",
       "  'relation': 'date',\n",
       "  'allowedOptionsName': 'Unknown type',\n",
       "  'defaultOptionsName': 'Unknown type'},\n",
       " 'encountered': {'label': 'Encountered',\n",
       "  'description': 'Search for People & Groups that encountered or found the specified Objects.',\n",
       "  'relation': 'item',\n",
       "  'allowedOptionsName': 'Unknown type',\n",
       "  'defaultOptionsName': 'Unknown type'},\n",
       " 'foundedBy': {'label': 'Founded By',\n",
       "  'description': 'Search for Groups by the specified People that were responsible for their foundation.',\n",
       "  'relation': 'agent',\n",
       "  'allowedOptionsName': 'keyword',\n",
       "  'defaultOptionsName': 'keyword'},\n",
       " 'founded': {'label': 'Founded Group',\n",
       "  'description': 'Search for People who were responsible for the foundation of the specified Groups.',\n",
       "  'relation': 'agent',\n",
       "  'allowedOptionsName': 'Unknown type',\n",
       "  'defaultOptionsName': 'Unknown type'},\n",
       " 'gender': {'label': 'Gender',\n",
       "  'description': 'Search for People by the specified Gender. This information comes from external sources, and gender information may not match expected results.',\n",
       "  'relation': 'concept',\n",
       "  'allowedOptionsName': 'keyword',\n",
       "  'defaultOptionsName': 'keyword'},\n",
       " 'hasDigitalImage': {'label': 'Have Digital Image',\n",
       "  'description': 'Search for People & Groups for which digital images are available.',\n",
       "  'relation': 'boolean',\n",
       "  'allowedOptionsName': 'exact',\n",
       "  'defaultOptionsName': 'exact'},\n",
       " 'memberOfInverse': {'label': 'Have Member',\n",
       "  'description': 'Search for Groups that have the specified People & Groups as members.',\n",
       "  'relation': 'agent',\n",
       "  'allowedOptionsName': 'Unknown type',\n",
       "  'defaultOptionsName': 'Unknown type'},\n",
       " 'id': {'label': 'ID',\n",
       "  'description': 'Search for People & Groups by their LUX data URI (e.g. starting with https://lux.collections.yale.edu/data/ and followed by a URI path containing a UUID, not the URI with /view/ in it).',\n",
       "  'relation': 'text',\n",
       "  'allowedOptionsName': 'Unknown type',\n",
       "  'defaultOptionsName': 'Unknown type'},\n",
       " 'identifier': {'label': 'Identifier',\n",
       "  'description': 'Search for People & Groups by a string identifier or an external authority URI, such as ULAN, VIAF or wikidata.',\n",
       "  'relation': 'text',\n",
       "  'allowedOptionsName': 'exact',\n",
       "  'defaultOptionsName': 'exact'},\n",
       " 'influenced': {'label': 'Influenced',\n",
       "  'description': 'Search for People & Groups that influenced the specified Concepts',\n",
       "  'relation': 'concept',\n",
       "  'allowedOptionsName': 'Unknown type',\n",
       "  'defaultOptionsName': 'Unknown type'},\n",
       " 'influencedProduction': {'label': 'Influenced Creation Of Objects',\n",
       "  'description': 'Search for People & Groups that influenced the creation of the specified Objects',\n",
       "  'relation': 'item',\n",
       "  'allowedOptionsName': 'Unknown type',\n",
       "  'defaultOptionsName': 'Unknown type'},\n",
       " 'influencedCreation': {'label': 'Influenced Creation Of Works',\n",
       "  'description': 'Search for People & Groups that influenced the creation of the specified Works',\n",
       "  'relation': 'work',\n",
       "  'allowedOptionsName': 'Unknown type',\n",
       "  'defaultOptionsName': 'Unknown type'},\n",
       " 'memberOf': {'label': 'Member of',\n",
       "  'description': 'Search for People & Groups that are members of other Groups.',\n",
       "  'relation': 'agent',\n",
       "  'allowedOptionsName': 'keyword',\n",
       "  'defaultOptionsName': 'keyword'},\n",
       " 'nationality': {'label': 'Nationality',\n",
       "  'description': 'Search for People & Groups with the specified Nationality.',\n",
       "  'relation': 'concept',\n",
       "  'allowedOptionsName': 'keyword',\n",
       "  'defaultOptionsName': 'keyword'},\n",
       " 'occupation': {'label': 'Occupation/Role',\n",
       "  'description': 'Search for People & Groups with the specified Occupation or Role.',\n",
       "  'relation': 'concept',\n",
       "  'allowedOptionsName': 'keyword',\n",
       "  'defaultOptionsName': 'keyword'},\n",
       " 'recordType': {'label': 'Person or Group Class',\n",
       "  'description': 'Search for records categorized as either a \"Person\" or a \"Group\". Person is an individual either real or fictionalized. Group is an organization, either real or fictionalized, with one or more members.',\n",
       "  'relation': 'text',\n",
       "  'allowedOptionsName': 'keyword',\n",
       "  'defaultOptionsName': 'Unknown type'},\n",
       " 'professionalActivity': {'label': 'Professional Activity Categorized As',\n",
       "  'description': 'Search for people and groups that carried out professional activities of the given categorization.',\n",
       "  'relation': 'concept',\n",
       "  'allowedOptionsName': 'keyword',\n",
       "  'defaultOptionsName': 'keyword'},\n",
       " 'activeAt': {'label': 'Professionally Active At',\n",
       "  'description': 'Search for People & Groups that were professionally active in the specified Places.',\n",
       "  'relation': 'place',\n",
       "  'allowedOptionsName': 'keyword',\n",
       "  'defaultOptionsName': 'keyword'},\n",
       " 'activeDate': {'label': 'Professionally Active Date',\n",
       "  'description': 'Search for People & Groups by the dates on which they were professionally active.',\n",
       "  'relation': 'date',\n",
       "  'allowedOptionsName': 'Unknown type',\n",
       "  'defaultOptionsName': 'Unknown type'},\n",
       " 'published': {'label': 'Published',\n",
       "  'description': 'Search for People & Groups that published the specified Works.',\n",
       "  'relation': 'work',\n",
       "  'allowedOptionsName': 'Unknown type',\n",
       "  'defaultOptionsName': 'Unknown type'},\n",
       " 'subjectOfAgent': {'label': 'Subject Of',\n",
       "  'description': 'Search for People & Groups that are the subject of the specified Works.',\n",
       "  'relation': 'work',\n",
       "  'allowedOptionsName': 'Unknown type',\n",
       "  'defaultOptionsName': 'Unknown type'}}"
      ]
     },
     "execution_count": 4,
     "metadata": {},
     "output_type": "execute_result"
    }
   ],
   "source": [
    "PeopleGroups().get_options()"
   ]
  },
  {
   "cell_type": "code",
   "execution_count": 5,
   "metadata": {},
   "outputs": [
    {
     "name": "stdout",
     "output_type": "stream",
     "text": [
      "\n",
      "Available filters for agent:\n",
      "--------------------------------------------------\n",
      "\n",
      "name (Name) - (text):\n",
      "  Description: Enter term(s) to be found within the title or name of the Person or Group. \"AND\", \"OR\", and \"-\" do not have special meaning in Advanced Search as they do in Simple Search. Instead use multiple fields connected with \"have All of\", \"have Any of\", and \"have None of\" respectively.\n",
      "\n",
      "text (Anywhere) - (text):\n",
      "  Description: Search for People & Groups by terms anywhere in the record. \"AND\", \"OR\", and \"-\" do not have special meaning in Advanced Search as they do in Simple Search. Instead use multiple fields connected with \"have All of\", \"have Any of\", and \"have None of\" respectively.\n",
      "\n",
      "startAt (Born/Formed At) - (place):\n",
      "  Description: Search for People & Groups that were born or formed in the specified Place.\n",
      "\n",
      "startDate (Born/Formed Date) - (date):\n",
      "  Description: Search People & Groups by the date on which they were born or formed.\n",
      "\n",
      "carriedOut (Carried Out) - (event):\n",
      "  Description: Search for People & Groups that carried out the specified Event.\n",
      "\n",
      "classification (Categorized As) - (concept):\n",
      "  Description: Search for People & Groups that are categorized with the specified Concept or Type terms.\n",
      "\n",
      "produced (Created Object) - (item):\n",
      "  Description: Search for People & Groups that created the specified Objects.\n",
      "\n",
      "created (Created Works) - (work):\n",
      "  Description: Search for People & Groups that authored or created the specified Works.\n",
      "\n",
      "curated (Curated) - (set):\n",
      "  Description: Search for Groups responsible for the curation of Yale's collections.\n",
      "\n",
      "endAt (Died/Dissolved At) - (place):\n",
      "  Description: Search for People & Groups that died or were dissolved in the specified Place.\n",
      "\n",
      "endDate (Died/Dissolved Date) - (date):\n",
      "  Description: Search for People & Groups by the date on which they died or were dissolved.\n",
      "\n",
      "encountered (Encountered) - (item):\n",
      "  Description: Search for People & Groups that encountered or found the specified Objects.\n",
      "\n",
      "foundedBy (Founded By) - (agent):\n",
      "  Description: Search for Groups by the specified People that were responsible for their foundation.\n",
      "\n",
      "founded (Founded Group) - (agent):\n",
      "  Description: Search for People who were responsible for the foundation of the specified Groups.\n",
      "\n",
      "gender (Gender) - (concept):\n",
      "  Description: Search for People by the specified Gender. This information comes from external sources, and gender information may not match expected results.\n",
      "\n",
      "hasDigitalImage (Have Digital Image) - (boolean):\n",
      "  Description: Search for People & Groups for which digital images are available.\n",
      "\n",
      "memberOfInverse (Have Member) - (agent):\n",
      "  Description: Search for Groups that have the specified People & Groups as members.\n",
      "\n",
      "id (ID) - (text):\n",
      "  Description: Search for People & Groups by their LUX data URI (e.g. starting with https://lux.collections.yale.edu/data/ and followed by a URI path containing a UUID, not the URI with /view/ in it).\n",
      "\n",
      "identifier (Identifier) - (text):\n",
      "  Description: Search for People & Groups by a string identifier or an external authority URI, such as ULAN, VIAF or wikidata.\n",
      "\n",
      "influenced (Influenced) - (concept):\n",
      "  Description: Search for People & Groups that influenced the specified Concepts\n",
      "\n",
      "influencedProduction (Influenced Creation Of Objects) - (item):\n",
      "  Description: Search for People & Groups that influenced the creation of the specified Objects\n",
      "\n",
      "influencedCreation (Influenced Creation Of Works) - (work):\n",
      "  Description: Search for People & Groups that influenced the creation of the specified Works\n",
      "\n",
      "memberOf (Member of) - (agent):\n",
      "  Description: Search for People & Groups that are members of other Groups.\n",
      "\n",
      "nationality (Nationality) - (concept):\n",
      "  Description: Search for People & Groups with the specified Nationality.\n",
      "\n",
      "occupation (Occupation/Role) - (concept):\n",
      "  Description: Search for People & Groups with the specified Occupation or Role.\n",
      "\n",
      "recordType (Person or Group Class) - (text):\n",
      "  Description: Search for records categorized as either a \"Person\" or a \"Group\". Person is an individual either real or fictionalized. Group is an organization, either real or fictionalized, with one or more members.\n",
      "\n",
      "professionalActivity (Professional Activity Categorized As) - (concept):\n",
      "  Description: Search for people and groups that carried out professional activities of the given categorization.\n",
      "\n",
      "activeAt (Professionally Active At) - (place):\n",
      "  Description: Search for People & Groups that were professionally active in the specified Places.\n",
      "\n",
      "activeDate (Professionally Active Date) - (date):\n",
      "  Description: Search for People & Groups by the dates on which they were professionally active.\n",
      "\n",
      "published (Published) - (work):\n",
      "  Description: Search for People & Groups that published the specified Works.\n",
      "\n",
      "subjectOfAgent (Subject Of) - (work):\n",
      "  Description: Search for People & Groups that are the subject of the specified Works.\n"
     ]
    }
   ],
   "source": [
    "PeopleGroups().list_filters()"
   ]
  },
  {
   "cell_type": "markdown",
   "metadata": {},
   "source": [
    "## Building a Filter"
   ]
  },
  {
   "cell_type": "code",
   "execution_count": 10,
   "metadata": {},
   "outputs": [],
   "source": [
    "pg = PeopleGroups().filter(name=\"John\").get()"
   ]
  },
  {
   "cell_type": "markdown",
   "metadata": {},
   "source": []
  },
  {
   "cell_type": "code",
   "execution_count": 11,
   "metadata": {},
   "outputs": [
    {
     "data": {
      "text/plain": [
       "107044"
      ]
     },
     "execution_count": 11,
     "metadata": {},
     "output_type": "execute_result"
    }
   ],
   "source": [
    "pg.num_results"
   ]
  },
  {
   "cell_type": "code",
   "execution_count": 14,
   "metadata": {},
   "outputs": [
    {
     "data": {
      "text/plain": [
       "'https://lux.collections.yale.edu/api/search/agent?q=%7B%22AND%22%3A%20%5B%7B%22name%22%3A%20%22John%22%7D%5D%7D'"
      ]
     },
     "execution_count": 14,
     "metadata": {},
     "output_type": "execute_result"
    }
   ],
   "source": [
    "pg.url"
   ]
  },
  {
   "cell_type": "code",
   "execution_count": 15,
   "metadata": {},
   "outputs": [
    {
     "data": {
      "text/plain": [
       "'https://lux.collections.yale.edu/view/results/people_groups?q=%7B%22AND%22%3A%20%5B%7B%22name%22%3A%20%22John%22%7D%5D%7D'"
      ]
     },
     "execution_count": 15,
     "metadata": {},
     "output_type": "execute_result"
    }
   ],
   "source": [
    "pg.view_url"
   ]
  },
  {
   "cell_type": "markdown",
   "metadata": {},
   "source": [
    "PeopleGroups().filter(name=\"John\")"
   ]
  }
 ],
 "metadata": {
  "kernelspec": {
   "display_name": "base",
   "language": "python",
   "name": "python3"
  },
  "language_info": {
   "codemirror_mode": {
    "name": "ipython",
    "version": 3
   },
   "file_extension": ".py",
   "mimetype": "text/x-python",
   "name": "python",
   "nbconvert_exporter": "python",
   "pygments_lexer": "ipython3",
   "version": "3.12.7"
  }
 },
 "nbformat": 4,
 "nbformat_minor": 2
}
