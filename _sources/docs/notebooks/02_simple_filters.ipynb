{
 "cells": [
  {
   "cell_type": "markdown",
   "metadata": {},
   "source": [
    "## Simple Filter\n",
    "\n",
    "Now that we have a basic understanding of how to use LuxY, we can start working with filters. In the last notebook, we saw how to build a simple filter using the `filter()` method where we just passed in a single value, the name John. In this notebook, we will explore some of the more complex filters that are available in Lux."
   ]
  },
  {
   "cell_type": "code",
   "execution_count": 3,
   "metadata": {},
   "outputs": [],
   "source": [
    "from luxy import PeopleGroups"
   ]
  },
  {
   "cell_type": "code",
   "execution_count": 6,
   "metadata": {},
   "outputs": [
    {
     "name": "stdout",
     "output_type": "stream",
     "text": [
      "107044\n"
     ]
    }
   ],
   "source": [
    "pg = PeopleGroups().filter(name=\"John\").get()\n",
    "print(pg.num_results)"
   ]
  },
  {
   "cell_type": "code",
   "execution_count": 9,
   "metadata": {},
   "outputs": [
    {
     "name": "stdout",
     "output_type": "stream",
     "text": [
      "\n",
      "Available filters for agent:\n",
      "--------------------------------------------------\n",
      "\n",
      "name (Name) - (text):\n",
      "  Description: Enter term(s) to be found within the title or name of the Person or Group. \"AND\", \"OR\", and \"-\" do not have special meaning in Advanced Search as they do in Simple Search. Instead use multiple fields connected with \"have All of\", \"have Any of\", and \"have None of\" respectively.\n",
      "\n",
      "text (Anywhere) - (text):\n",
      "  Description: Search for People & Groups by terms anywhere in the record. \"AND\", \"OR\", and \"-\" do not have special meaning in Advanced Search as they do in Simple Search. Instead use multiple fields connected with \"have All of\", \"have Any of\", and \"have None of\" respectively.\n",
      "\n",
      "startAt (Born/Formed At) - (place):\n",
      "  Description: Search for People & Groups that were born or formed in the specified Place.\n",
      "\n",
      "startDate (Born/Formed Date) - (date):\n",
      "  Description: Search People & Groups by the date on which they were born or formed.\n",
      "\n",
      "carriedOut (Carried Out) - (event):\n",
      "  Description: Search for People & Groups that carried out the specified Event.\n",
      "\n",
      "classification (Categorized As) - (concept):\n",
      "  Description: Search for People & Groups that are categorized with the specified Concept or Type terms.\n",
      "\n",
      "produced (Created Object) - (item):\n",
      "  Description: Search for People & Groups that created the specified Objects.\n",
      "\n",
      "created (Created Works) - (work):\n",
      "  Description: Search for People & Groups that authored or created the specified Works.\n",
      "\n",
      "curated (Curated) - (set):\n",
      "  Description: Search for Groups responsible for the curation of Yale's collections.\n",
      "\n",
      "endAt (Died/Dissolved At) - (place):\n",
      "  Description: Search for People & Groups that died or were dissolved in the specified Place.\n",
      "\n",
      "endDate (Died/Dissolved Date) - (date):\n",
      "  Description: Search for People & Groups by the date on which they died or were dissolved.\n",
      "\n",
      "encountered (Encountered) - (item):\n",
      "  Description: Search for People & Groups that encountered or found the specified Objects.\n",
      "\n",
      "foundedBy (Founded By) - (agent):\n",
      "  Description: Search for Groups by the specified People that were responsible for their foundation.\n",
      "\n",
      "founded (Founded Group) - (agent):\n",
      "  Description: Search for People who were responsible for the foundation of the specified Groups.\n",
      "\n",
      "gender (Gender) - (concept):\n",
      "  Description: Search for People by the specified Gender. This information comes from external sources, and gender information may not match expected results.\n",
      "\n",
      "hasDigitalImage (Have Digital Image) - (boolean):\n",
      "  Description: Search for People & Groups for which digital images are available.\n",
      "\n",
      "memberOfInverse (Have Member) - (agent):\n",
      "  Description: Search for Groups that have the specified People & Groups as members.\n",
      "\n",
      "id (ID) - (text):\n",
      "  Description: Search for People & Groups by their LUX data URI (e.g. starting with https://lux.collections.yale.edu/data/ and followed by a URI path containing a UUID, not the URI with /view/ in it).\n",
      "\n",
      "identifier (Identifier) - (text):\n",
      "  Description: Search for People & Groups by a string identifier or an external authority URI, such as ULAN, VIAF or wikidata.\n",
      "\n",
      "influenced (Influenced) - (concept):\n",
      "  Description: Search for People & Groups that influenced the specified Concepts\n",
      "\n",
      "influencedProduction (Influenced Creation Of Objects) - (item):\n",
      "  Description: Search for People & Groups that influenced the creation of the specified Objects\n",
      "\n",
      "influencedCreation (Influenced Creation Of Works) - (work):\n",
      "  Description: Search for People & Groups that influenced the creation of the specified Works\n",
      "\n",
      "memberOf (Member of) - (agent):\n",
      "  Description: Search for People & Groups that are members of other Groups.\n",
      "\n",
      "nationality (Nationality) - (concept):\n",
      "  Description: Search for People & Groups with the specified Nationality.\n",
      "\n",
      "occupation (Occupation/Role) - (concept):\n",
      "  Description: Search for People & Groups with the specified Occupation or Role.\n",
      "\n",
      "recordType (Person or Group Class) - (text):\n",
      "  Description: Search for records categorized as either a \"Person\" or a \"Group\". Person is an individual either real or fictionalized. Group is an organization, either real or fictionalized, with one or more members.\n",
      "\n",
      "professionalActivity (Professional Activity Categorized As) - (concept):\n",
      "  Description: Search for people and groups that carried out professional activities of the given categorization.\n",
      "\n",
      "activeAt (Professionally Active At) - (place):\n",
      "  Description: Search for People & Groups that were professionally active in the specified Places.\n",
      "\n",
      "activeDate (Professionally Active Date) - (date):\n",
      "  Description: Search for People & Groups by the dates on which they were professionally active.\n",
      "\n",
      "published (Published) - (work):\n",
      "  Description: Search for People & Groups that published the specified Works.\n",
      "\n",
      "subjectOfAgent (Subject Of) - (work):\n",
      "  Description: Search for People & Groups that are the subject of the specified Works.\n"
     ]
    }
   ],
   "source": [
    "pg.list_filters()"
   ]
  },
  {
   "cell_type": "code",
   "execution_count": 13,
   "metadata": {},
   "outputs": [
    {
     "name": "stdout",
     "output_type": "stream",
     "text": [
      "103922\n"
     ]
    }
   ],
   "source": [
    "pg = (PeopleGroups()\n",
    "      .filter(name=\"John\")\n",
    "      .filter(recordType=\"person\")\n",
    ").get()\n",
    "print(pg.num_results)"
   ]
  },
  {
   "cell_type": "code",
   "execution_count": 16,
   "metadata": {},
   "outputs": [
    {
     "name": "stdout",
     "output_type": "stream",
     "text": [
      "6753\n"
     ]
    }
   ],
   "source": [
    "pg = (PeopleGroups()\n",
    "      .filter(name=\"John\")\n",
    "      .filter(recordType=\"person\")\n",
    "      .filter(hasDigitalImage=True)\n",
    ").get()\n",
    "print(pg.num_results)"
   ]
  },
  {
   "cell_type": "code",
   "execution_count": 17,
   "metadata": {},
   "outputs": [
    {
     "name": "stdout",
     "output_type": "stream",
     "text": [
      "237\n"
     ]
    }
   ],
   "source": [
    "pg = (PeopleGroups()\n",
    "      .filter(name=\"John\")\n",
    "      .filter(recordType=\"person\")\n",
    "      .filter(hasDigitalImage=True)\n",
    "      .filter(endAt={\"name\": \"Amsterdam\"})\n",
    ").get()\n",
    "print(pg.num_results)"
   ]
  },
  {
   "cell_type": "code",
   "execution_count": 23,
   "metadata": {},
   "outputs": [
    {
     "name": "stdout",
     "output_type": "stream",
     "text": [
      "237\n"
     ]
    }
   ],
   "source": [
    "pg = PeopleGroups().filter(name=\"John\",\n",
    "                           recordType=\"person\",\n",
    "                           hasDigitalImage=True,\n",
    "                           endAt={\"name\": \"Amsterdam\"}).get()\n",
    "print(pg.num_results)"
   ]
  },
  {
   "cell_type": "code",
   "execution_count": 27,
   "metadata": {},
   "outputs": [
    {
     "name": "stdout",
     "output_type": "stream",
     "text": [
      "10969\n"
     ]
    }
   ],
   "source": []
  },
  {
   "cell_type": "code",
   "execution_count": null,
   "metadata": {},
   "outputs": [],
   "source": []
  }
 ],
 "metadata": {
  "kernelspec": {
   "display_name": "base",
   "language": "python",
   "name": "python3"
  },
  "language_info": {
   "codemirror_mode": {
    "name": "ipython",
    "version": 3
   },
   "file_extension": ".py",
   "mimetype": "text/x-python",
   "name": "python",
   "nbconvert_exporter": "python",
   "pygments_lexer": "ipython3",
   "version": "3.12.7"
  }
 },
 "nbformat": 4,
 "nbformat_minor": 2
}
