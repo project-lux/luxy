{
 "cells": [
  {
   "cell_type": "markdown",
   "metadata": {},
   "source": [
    "## Pagination and Downloading Data\n",
    "\n",
    "LuxY is designed to handle pagination in alignment with the Lux API. To learn about how to work with pagination and download data from Lux, let's start by trying to find all the PeopleGroups that have the name \"John Adams\"."
   ]
  },
  {
   "cell_type": "code",
   "execution_count": 1,
   "metadata": {},
   "outputs": [],
   "source": [
    "from luxy import PeopleGroups"
   ]
  },
  {
   "cell_type": "code",
   "execution_count": 2,
   "metadata": {},
   "outputs": [
    {
     "name": "stdout",
     "output_type": "stream",
     "text": [
      "Number of results: 276\n",
      "Number of pages: 14\n"
     ]
    }
   ],
   "source": [
    "pg = PeopleGroups().filter(name=\"John Adams\").get()\n",
    "# print the number of results\n",
    "print(\"Number of results:\", pg.num_results)\n",
    "print(\"Number of pages:\", pg.num_pages())"
   ]
  },
  {
   "cell_type": "markdown",
   "metadata": {},
   "source": [
    "Here, we can see our results. As of the creation of this notebook, there are 276 total results and 14 pages. We can use LuxY to iterate over those pages by using the `get_page_data_all` method. We can pass two arguments to this method: `start_page` and `end_page`. These arguments are optional, and if not provided, will default to 1 and the total number of pages, respectively."
   ]
  },
  {
   "cell_type": "code",
   "execution_count": 15,
   "metadata": {},
   "outputs": [],
   "source": [
    "pages = pg.get_page_data_all(start_page=1, end_page=3)"
   ]
  },
  {
   "cell_type": "markdown",
   "metadata": {},
   "source": [
    "As we can see below, this returns a generator object. We can convert this to a list by using the `list` function."
   ]
  },
  {
   "cell_type": "code",
   "execution_count": 16,
   "metadata": {},
   "outputs": [
    {
     "data": {
      "text/plain": [
       "<generator object BaseLux.get_page_data_all at 0x111c21640>"
      ]
     },
     "execution_count": 16,
     "metadata": {},
     "output_type": "execute_result"
    }
   ],
   "source": [
    "pages"
   ]
  },
  {
   "cell_type": "code",
   "execution_count": 17,
   "metadata": {},
   "outputs": [],
   "source": [
    "pages = list(pages)"
   ]
  },
  {
   "cell_type": "markdown",
   "metadata": {},
   "source": [
    "Let's take a look at the first page."
   ]
  },
  {
   "cell_type": "code",
   "execution_count": 18,
   "metadata": {},
   "outputs": [
    {
     "name": "stdout",
     "output_type": "stream",
     "text": [
      "[{'@context': 'https://linked.art/ns/v1/search.json', 'id': 'https://lux.collections.yale.edu/api/search/agent?q=%7B%22AND%22%3A%5B%7B%22name%22%3A%22John%20Adams%22%7D%5D%7D&page=2&pageLength=20', 'type': 'OrderedCollectionPage', 'partOf': [{'id': 'https://lux.collections.yale.edu/api/search-estimate/agent?q=%7B%22AND%22%3A%5B%7B%22name%22%3A%22John%20Adams%22%7D%5D%7D', 'type': 'OrderedCollection', 'label': {'en': ['People & Groups']}, 'summary': {'en': ['Records representing individuals and organizations that match your search.']}, 'totalItems': 276}], 'orderedItems': [{'id': 'https://lux.collections.yale.edu/data/person/22e467d0-8f37-4fd8-a317-7eb096375ee0', 'type': 'Person'}, {'id': 'https://lux.collections.yale.edu/data/person/4c7f7739-f7be-4e0d-9c88-987ee8bbc3f8', 'type': 'Person'}, {'id': 'https://lux.collections.yale.edu/data/person/67e1c047-f6b7-412e-a000-c095333e649b', 'type': 'Person'}, {'id': 'https://lux.collections.yale.edu/data/person/bb5f8245-4d82-4d0f-8ce8-b8b81230ac6f', 'type': 'Person'}, {'id': 'https://lux.collections.yale.edu/data/group/4bc5c738-924c-425e-8438-d1a10487ffbd', 'type': 'Group'}, {'id': 'https://lux.collections.yale.edu/data/person/64f2091b-e04e-4ec1-8bfd-9b147bea4752', 'type': 'Person'}, {'id': 'https://lux.collections.yale.edu/data/person/4a0b85a6-d940-4fb0-bb5a-6d66658f39de', 'type': 'Person'}, {'id': 'https://lux.collections.yale.edu/data/person/169c72b0-c082-4c5f-8241-2bca27853e8d', 'type': 'Person'}, {'id': 'https://lux.collections.yale.edu/data/person/15a71bca-ec29-485c-af93-1a85106f72f7', 'type': 'Person'}, {'id': 'https://lux.collections.yale.edu/data/person/de79c7d1-2d8e-4d98-a1bf-6ca79c0b1c25', 'type': 'Person'}, {'id': 'https://lux.collections.yale.edu/data/person/b31f0298-11e8-460f-b670-127e9d1180ba', 'type': 'Person'}, {'id': 'https://lux.collections.yale.edu/data/person/0ef94574-75ef-4664-abfb-ffe0d1ee323c', 'type': 'Person'}, {'id': 'https://lux.collections.yale.edu/data/person/a5cdffd8-3fb0-4188-a607-a8c26ac33667', 'type': 'Person'}, {'id': 'https://lux.collections.yale.edu/data/person/8934ce8c-9869-481a-923f-384969569570', 'type': 'Person'}, {'id': 'https://lux.collections.yale.edu/data/person/d6e18c49-7d49-4dc1-b780-acfb4768c2f1', 'type': 'Person'}, {'id': 'https://lux.collections.yale.edu/data/person/26480195-63db-4196-ac46-1b98b721bb4d', 'type': 'Person'}, {'id': 'https://lux.collections.yale.edu/data/person/63dde3ce-956c-4aa1-bb53-977c233d9160', 'type': 'Person'}, {'id': 'https://lux.collections.yale.edu/data/person/07e940cb-0f8a-4540-97b8-d23958f7b8d3', 'type': 'Person'}, {'id': 'https://lux.collections.yale.edu/data/person/e64b7680-a014-47bf-bff0-7facf50f1ab2', 'type': 'Person'}, {'id': 'https://lux.collections.yale.edu/data/person/f8257cc4-455c-46c0-8dff-a4e0c227faef', 'type': 'Person'}], 'prev': {'id': 'https://lux.collections.yale.edu/api/search/agent?q=%7B%22AND%22%3A%5B%7B%22name%22%3A%22John%20Adams%22%7D%5D%7D&page=1&pageLength=20', 'type': 'OrderedCollectionPage'}, 'next': {'id': 'https://lux.collections.yale.edu/api/search/agent?q=%7B%22AND%22%3A%5B%7B%22name%22%3A%22John%20Adams%22%7D%5D%7D&page=3&pageLength=20', 'type': 'OrderedCollectionPage'}}, {'@context': 'https://linked.art/ns/v1/search.json', 'id': 'https://lux.collections.yale.edu/api/search/agent?q=%7B%22AND%22%3A%5B%7B%22name%22%3A%22John%20Adams%22%7D%5D%7D&page=3&pageLength=20', 'type': 'OrderedCollectionPage', 'partOf': [{'id': 'https://lux.collections.yale.edu/api/search-estimate/agent?q=%7B%22AND%22%3A%5B%7B%22name%22%3A%22John%20Adams%22%7D%5D%7D', 'type': 'OrderedCollection', 'label': {'en': ['People & Groups']}, 'summary': {'en': ['Records representing individuals and organizations that match your search.']}, 'totalItems': 276}], 'orderedItems': [{'id': 'https://lux.collections.yale.edu/data/person/6d4be5fe-b0ee-4606-a064-f3551bcfb186', 'type': 'Person'}, {'id': 'https://lux.collections.yale.edu/data/group/c4cddf21-aee6-4e11-b1fc-cde7da156727', 'type': 'Group'}, {'id': 'https://lux.collections.yale.edu/data/person/f05d50a5-e764-4e3a-8b46-002138c7c089', 'type': 'Person'}, {'id': 'https://lux.collections.yale.edu/data/person/2be789a5-86e2-4e48-8fa2-fcad90429a57', 'type': 'Person'}, {'id': 'https://lux.collections.yale.edu/data/person/df78116e-5c74-4ef6-880e-e1dfbfd17cde', 'type': 'Person'}, {'id': 'https://lux.collections.yale.edu/data/person/6ab9b888-57e7-47c0-a05b-fd1c8467b13c', 'type': 'Person'}, {'id': 'https://lux.collections.yale.edu/data/person/f8887237-b8a4-4d02-9966-d07aff8674a2', 'type': 'Person'}, {'id': 'https://lux.collections.yale.edu/data/person/789aad70-fa4c-474f-99a9-7ec27abc70af', 'type': 'Person'}, {'id': 'https://lux.collections.yale.edu/data/person/5545fe57-5df2-49f2-a93e-2d44e53832a2', 'type': 'Person'}, {'id': 'https://lux.collections.yale.edu/data/person/7fe6ad4c-6d3d-48bd-9d79-3f9254794359', 'type': 'Person'}, {'id': 'https://lux.collections.yale.edu/data/person/4dda5864-2d26-4383-8b44-43bfbf3a99d7', 'type': 'Person'}, {'id': 'https://lux.collections.yale.edu/data/group/7884e996-d5e3-43be-8d2d-5befa7a56a20', 'type': 'Group'}, {'id': 'https://lux.collections.yale.edu/data/person/108153e3-60a2-4814-8b9c-a4eb7c351a1a', 'type': 'Person'}, {'id': 'https://lux.collections.yale.edu/data/person/f7bd3ef2-5070-49be-a1db-b85db0ac59ea', 'type': 'Person'}, {'id': 'https://lux.collections.yale.edu/data/person/a283f46e-1520-42ca-befe-388ca1e7bd9f', 'type': 'Person'}, {'id': 'https://lux.collections.yale.edu/data/person/75fafd60-0b36-4203-8ac0-4be49818293f', 'type': 'Person'}, {'id': 'https://lux.collections.yale.edu/data/person/2a021dc5-c4a7-4a7b-9c14-616a59aa45e1', 'type': 'Person'}, {'id': 'https://lux.collections.yale.edu/data/person/f6e9389d-e43f-473b-8996-b3acabc75ea2', 'type': 'Person'}, {'id': 'https://lux.collections.yale.edu/data/person/e6375375-e6f8-44b9-8b59-f02a2058dcd4', 'type': 'Person'}, {'id': 'https://lux.collections.yale.edu/data/person/d119726e-027e-4829-9b20-e3e57aa14b87', 'type': 'Person'}], 'prev': {'id': 'https://lux.collections.yale.edu/api/search/agent?q=%7B%22AND%22%3A%5B%7B%22name%22%3A%22John%20Adams%22%7D%5D%7D&page=2&pageLength=20', 'type': 'OrderedCollectionPage'}, 'next': {'id': 'https://lux.collections.yale.edu/api/search/agent?q=%7B%22AND%22%3A%5B%7B%22name%22%3A%22John%20Adams%22%7D%5D%7D&page=4&pageLength=20', 'type': 'OrderedCollectionPage'}}]\n"
     ]
    }
   ],
   "source": [
    "print(pages)"
   ]
  },
  {
   "cell_type": "markdown",
   "metadata": {},
   "source": [
    "Each page contains a list of items. We can get the items from a page by using the `get_items` method."
   ]
  },
  {
   "cell_type": "code",
   "execution_count": 24,
   "metadata": {},
   "outputs": [
    {
     "data": {
      "text/plain": [
       "{'id': 'https://lux.collections.yale.edu/data/person/22e467d0-8f37-4fd8-a317-7eb096375ee0',\n",
       " 'type': 'Person'}"
      ]
     },
     "execution_count": 24,
     "metadata": {},
     "output_type": "execute_result"
    }
   ],
   "source": [
    "page1_items = pg.get_items(pages[0])\n",
    "page1_items[0]"
   ]
  },
  {
   "cell_type": "markdown",
   "metadata": {},
   "source": [
    "We can get the data for an item by using the `get_item_data` method."
   ]
  },
  {
   "cell_type": "code",
   "execution_count": 25,
   "metadata": {},
   "outputs": [
    {
     "name": "stdout",
     "output_type": "stream",
     "text": [
      "{'id': 'https://lux.collections.yale.edu/data/person/22e467d0-8f37-4fd8-a317-7eb096375ee0', 'born': {'type': 'Birth', 'timespan': {'type': 'TimeSpan', 'end_of_the_end': '1940-12-31T23:59:59', 'begin_of_the_begin': '1940-01-01T00:00:00', '_seconds_since_epoch_begin_of_the_begin': -946771200, '_seconds_since_epoch_end_of_the_end': -915148801}}, 'type': 'Person', '_label': 'Adams, J. D. R.', '@context': 'https://linked.art/ns/v1/linked-art.json', 'equivalent': [{'id': 'https://d-nb.info/gnd/138381100', 'type': 'Person', '_label': 'Adams, J. D. R.'}, {'id': 'http://id.loc.gov/authorities/names/no94009355', 'type': 'Person', '_label': 'Adams, J. D. R.'}, {'id': 'http://viaf.org/viaf/100395370', 'type': 'Person', '_label': 'Adams, J. D. R.'}, {'id': 'https://linked-art.library.yale.edu/node/5e8de466-b82b-4491-9708-f2da1d8a979e', 'type': 'Person', '_label': 'Adams, J. D. R.'}], 'classified_as': [{'id': 'https://lux.collections.yale.edu/data/concept/6f652917-4c07-4d51-8209-fcdd4f285343', 'type': 'Type', '_label': 'Male', 'equivalent': [{'id': 'http://vocab.getty.edu/aat/300189559', 'type': 'Type', '_label': 'Male'}], 'classified_as': [{'id': 'https://lux.collections.yale.edu/data/concept/84ed0c0e-2aa8-49b3-ae02-ed84552f570d', 'type': 'Type', '_label': 'Gender', 'equivalent': [{'id': 'http://vocab.getty.edu/aat/300055147', 'type': 'Type', '_label': 'Gender'}]}]}, {'id': 'https://lux.collections.yale.edu/data/concept/03837c1a-3ba7-415d-9d12-a263699c77ee', 'type': 'Type', '_label': 'Wirtschaftswissenschaftler', 'classified_as': [{'id': 'https://lux.collections.yale.edu/data/concept/436de922-618f-4afc-afcc-fe15c4ae959c', 'type': 'Type', '_label': 'Occupation', 'equivalent': [{'id': 'http://vocab.getty.edu/aat/300263369', 'type': 'Type', '_label': 'Occupation'}]}]}, {'id': 'https://lux.collections.yale.edu/data/concept/80efddc3-73e4-4f40-bffc-198412420d43', 'type': 'Type', '_label': 'gb', 'equivalent': [{'id': 'http://vocab.getty.edu/aat/300111159', 'type': 'Type', '_label': 'gb'}], 'classified_as': [{'id': 'https://lux.collections.yale.edu/data/concept/05344568-bdd1-4289-90d6-b9fdcdbaaa4c', 'type': 'Type', '_label': 'Nationality', 'equivalent': [{'id': 'http://vocab.getty.edu/aat/300379842', 'type': 'Type', '_label': 'Nationality'}]}]}], 'identified_by': [{'type': 'Name', 'content': 'Adams, J. D. R.', 'classified_as': [{'id': 'https://lux.collections.yale.edu/data/concept/f7ef5bb4-e7fb-443d-9c6b-371a23e717ec', 'type': 'Type', '_label': 'Primary Name', 'equivalent': [{'id': 'http://vocab.getty.edu/aat/300404670', 'type': 'Type', '_label': 'Primary Name'}]}, {'id': 'https://lux.collections.yale.edu/data/concept/ab99d278-9323-4d84-8e97-1846058fc587', 'type': 'Type', '_label': 'Sort Name', 'equivalent': [{'id': 'http://vocab.getty.edu/aat/300451544', 'type': 'Type', '_label': 'Final: Sort Title'}]}]}, {'type': 'Name', 'content': 'Adams, John Douglas Richard', 'classified_as': [{'id': 'https://lux.collections.yale.edu/data/concept/c99c4343-b769-4a81-9f28-6aec5d281251', 'type': 'Type', '_label': 'Alternate Name', 'equivalent': [{'id': 'http://vocab.getty.edu/aat/300264273', 'type': 'Type', '_label': 'Alternate Name'}]}]}, {'type': 'Name', 'content': 'John Douglas Richard Adams', 'classified_as': [{'id': 'https://lux.collections.yale.edu/data/concept/c99c4343-b769-4a81-9f28-6aec5d281251', 'type': 'Type', '_label': 'Alternate Name', 'equivalent': [{'id': 'http://vocab.getty.edu/aat/300264273', 'type': 'Type', '_label': 'Alternate Name'}]}]}, {'type': 'Name', 'content': 'John D. R. Adams', 'classified_as': []}, {'type': 'Name', 'content': 'Adams, J.D.R.', 'classified_as': []}, {'type': 'Name', 'content': 'Adams, John D. R. 1940-'}, {'type': 'Name', 'content': 'Adams, J. D. R., juriste'}], '_links': {'curies': [{'name': 'la', 'href': 'https://linked.art/api/1.0/rels/{rel}', 'templated': True}, {'name': 'lux', 'href': 'https://lux.collections.yale.edu/api/rels/{rel}', 'templated': True}], 'self': {'href': 'https://lux.collections.yale.edu/data/person/22e467d0-8f37-4fd8-a317-7eb096375ee0'}, 'lux:agentCreatedPublishedInfluencedWork': {'href': 'https://lux.collections.yale.edu/api/search/work?q=%7B%22OR%22%3A%5B%7B%22createdBy%22%3A%7B%22id%22%3A%22https%3A%2F%2Flux.collections.yale.edu%2Fdata%2Fperson%2F22e467d0-8f37-4fd8-a317-7eb096375ee0%22%7D%7D%2C%7B%22publishedBy%22%3A%7B%22id%22%3A%22https%3A%2F%2Flux.collections.yale.edu%2Fdata%2Fperson%2F22e467d0-8f37-4fd8-a317-7eb096375ee0%22%7D%7D%2C%7B%22creationInfluencedBy%22%3A%7B%22id%22%3A%22https%3A%2F%2Flux.collections.yale.edu%2Fdata%2Fperson%2F22e467d0-8f37-4fd8-a317-7eb096375ee0%22%7D%7D%5D%7D', '_estimate': 1}, 'lux:agentWorkCreatedTime': {'href': 'https://lux.collections.yale.edu/api/facets/work?q=%7B%22OR%22%3A%5B%7B%22createdBy%22%3A%7B%22id%22%3A%22https%3A%2F%2Flux.collections.yale.edu%2Fdata%2Fperson%2F22e467d0-8f37-4fd8-a317-7eb096375ee0%22%7D%7D%2C%7B%22publishedBy%22%3A%7B%22id%22%3A%22https%3A%2F%2Flux.collections.yale.edu%2Fdata%2Fperson%2F22e467d0-8f37-4fd8-a317-7eb096375ee0%22%7D%7D%2C%7B%22creationInfluencedBy%22%3A%7B%22id%22%3A%22https%3A%2F%2Flux.collections.yale.edu%2Fdata%2Fperson%2F22e467d0-8f37-4fd8-a317-7eb096375ee0%22%7D%7D%5D%7D&name=workCreationDate', '_estimate': 1}, 'lux:agentWorkPublishedTime': {'href': 'https://lux.collections.yale.edu/api/facets/work?q=%7B%22OR%22%3A%5B%7B%22createdBy%22%3A%7B%22id%22%3A%22https%3A%2F%2Flux.collections.yale.edu%2Fdata%2Fperson%2F22e467d0-8f37-4fd8-a317-7eb096375ee0%22%7D%7D%2C%7B%22publishedBy%22%3A%7B%22id%22%3A%22https%3A%2F%2Flux.collections.yale.edu%2Fdata%2Fperson%2F22e467d0-8f37-4fd8-a317-7eb096375ee0%22%7D%7D%2C%7B%22creationInfluencedBy%22%3A%7B%22id%22%3A%22https%3A%2F%2Flux.collections.yale.edu%2Fdata%2Fperson%2F22e467d0-8f37-4fd8-a317-7eb096375ee0%22%7D%7D%5D%7D&name=workPublicationDate', '_estimate': 1}, 'lux:agentRelatedAgents': {'href': 'https://lux.collections.yale.edu/api/related-list/agent?&name=relatedToAgent&uri=https%3A%2F%2Flux.collections.yale.edu%2Fdata%2Fperson%2F22e467d0-8f37-4fd8-a317-7eb096375ee0', '_estimate': 1}, 'lux:agentRelatedConcepts': {'href': 'https://lux.collections.yale.edu/api/related-list/concept?&name=relatedToAgent&uri=https%3A%2F%2Flux.collections.yale.edu%2Fdata%2Fperson%2F22e467d0-8f37-4fd8-a317-7eb096375ee0', '_estimate': 1}, 'lux:agentRelatedPlaces': {'href': 'https://lux.collections.yale.edu/api/related-list/place?&name=relatedToAgent&uri=https%3A%2F%2Flux.collections.yale.edu%2Fdata%2Fperson%2F22e467d0-8f37-4fd8-a317-7eb096375ee0', '_estimate': 1}, 'lux:agentRelatedSubjects': {'href': 'https://lux.collections.yale.edu/api/facets/work?q=%7B%22createdBy%22%3A%7B%22id%22%3A%22https%3A%2F%2Flux.collections.yale.edu%2Fdata%2Fperson%2F22e467d0-8f37-4fd8-a317-7eb096375ee0%22%7D%7D&name=workAboutConceptId', '_estimate': 1}, 'lux:agentRelatedWorkTypes': {'href': 'https://lux.collections.yale.edu/api/facets/work?q=%7B%22createdBy%22%3A%7B%22id%22%3A%22https%3A%2F%2Flux.collections.yale.edu%2Fdata%2Fperson%2F22e467d0-8f37-4fd8-a317-7eb096375ee0%22%7D%7D&name=workTypeId', '_estimate': 1}}}\n"
     ]
    }
   ],
   "source": [
    "print(pg.get_item_data(page1_items[0]))"
   ]
  },
  {
   "cell_type": "markdown",
   "metadata": {},
   "source": [
    "Let's take a look at the label for the first item."
   ]
  },
  {
   "cell_type": "code",
   "execution_count": 27,
   "metadata": {},
   "outputs": [
    {
     "name": "stdout",
     "output_type": "stream",
     "text": [
      "Adams, J. D. R.\n"
     ]
    }
   ],
   "source": [
    "print(pg.get_item_data(page1_items[0])[\"_label\"])"
   ]
  },
  {
   "cell_type": "markdown",
   "metadata": {},
   "source": [
    "### Bringing it All Together\n",
    "\n",
    "We can now bring it all together by iterating over the pages and items. Let's iterate over the first 2 pages and print the label for each item."
   ]
  },
  {
   "cell_type": "code",
   "execution_count": 29,
   "metadata": {},
   "outputs": [
    {
     "name": "stdout",
     "output_type": "stream",
     "text": [
      "Page 1: https://lux.collections.yale.edu/api/search/agent?q=%7B%22AND%22%3A%5B%7B%22name%22%3A%22John%20Adams%22%7D%5D%7D&page=2&pageLength=20\n",
      "Item 0: Adams, J. D. R.\n",
      "Item 1: Adams, John W., 1956-\n",
      "Item 2: Lowe, John Adams, 1881-\n",
      "Item 3: Adams, John Quincy, 1891-\n",
      "Item 4: Samuel and John Adams (Firm)\n",
      "Item 5: Henry, John A. (John Adams)\n",
      "Item 6: Adams, John Stokes, 1864-1954\n",
      "Item 7: Adams, John R., 1900-1994\n",
      "Item 8: Adams, John Clarke, 1910-2000\n",
      "Item 9: Adams, John, 1961-\n",
      "Item 10: Adams, John B. (John Ballard), 1836-\n",
      "Item 11: Adams, D. J. (David John)\n",
      "Item 12: Adams, J. B.\n",
      "Item 13: Adams, J. A.\n",
      "Item 14: Adams, John, -1866\n",
      "Item 15: Adams, John, 1857-1934\n",
      "Item 16: Adams, John, Esq. of Waltham Abbey\n",
      "Item 17: Brendon, J. A. (John Adams), 1884-\n",
      "Item 18: Adams, John W. (John Wagstaff), 1915-1995\n",
      "Item 19: Adams, John Crawford\n",
      "Page 2: https://lux.collections.yale.edu/api/search/agent?q=%7B%22AND%22%3A%5B%7B%22name%22%3A%22John%20Adams%22%7D%5D%7D&page=3&pageLength=20\n",
      "Item 0: McLaughlin, John A. (John Adams), 1943-\n",
      "Item 1: J.S. & C. Adams (Firm)\n",
      "Item 2: Adams, John, 1765?-1815\n",
      "Item 3: Adams, John W. (John William), 1862-1926\n",
      "Item 4: Eldridge, John A. (John Adams), 1891-\n",
      "Item 5: Adams, R. J. (Richard John), 1970-\n",
      "Item 6: Adams, John D. (John David), 1949-\n",
      "Item 7: Adams, John G. (John Glover), 1807-1884\n",
      "Item 8: Phythian-Adams, W. J. (William John), 1888-1967\n",
      "Item 9: Adams, Mr. (John), -1738\n",
      "Item 10: Albro, John A. (John Adams), 1799-1866\n",
      "Item 11: University of California, Los Angeles. Sir John Adams Foundation\n",
      "Item 12: Adams, John Isaac Ira, 1826-1857\n",
      "Item 13: Adams, John (Riding master)\n",
      "Item 14: Adams, John W., 1929-\n",
      "Item 15: Adams, John, approximately 1730-approximately 1800\n",
      "Item 16: Adams, A. John\n",
      "Item 17: Adams, J. G. (John George)\n",
      "Item 18: Adams, John L., 1948-\n",
      "Item 19: Thierry, John Adams, 1913-\n"
     ]
    }
   ],
   "source": [
    "\n",
    "\n",
    "for i, page in enumerate(pg.get_page_data_all(start_page=1, end_page=3), 1):\n",
    "    print(f\"Page {i}:\", page[\"id\"])\n",
    "    for j, item in enumerate(pg.get_items(page)):\n",
    "        print(f\"Item {j}:\", pg.get_item_data(item)[\"_label\"])"
   ]
  },
  {
   "cell_type": "code",
   "execution_count": null,
   "metadata": {},
   "outputs": [],
   "source": []
  }
 ],
 "metadata": {
  "kernelspec": {
   "display_name": "base",
   "language": "python",
   "name": "python3"
  },
  "language_info": {
   "codemirror_mode": {
    "name": "ipython",
    "version": 3
   },
   "file_extension": ".py",
   "mimetype": "text/x-python",
   "name": "python",
   "nbconvert_exporter": "python",
   "pygments_lexer": "ipython3",
   "version": "3.12.7"
  }
 },
 "nbformat": 4,
 "nbformat_minor": 2
}
