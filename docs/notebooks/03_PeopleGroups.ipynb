{
 "cells": [
  {
   "cell_type": "markdown",
   "metadata": {},
   "source": [
    "## PeopleGroups\n",
    "\n",
    "The PeopleGroups class provides an interface to search for people and groups in Yale's LUX collections database. This class inherits from BaseLux and provides specialized filtering capabilities for searching historical figures, artists, organizations, and other entities in Yale's collections.\n",
    "\n",
    "The PeopleGroups class allows you to search for both individual people and groups (organizations) using a variety of filters. You can search by basic information like names and dates, professional activities, relationships to works and objects, and various biographical details.\n",
    "\n",
    "### Text Search Filters\n",
    "\n",
    "- **name**: Search within titles or names of people and groups\n",
    "  - Type: text\n",
    "  - Usage: Search for specific names or partial name matches\n",
    "  - Example: `filter(name=\"John Smith\")`\n",
    "\n",
    "- **text**: Search anywhere in the record\n",
    "  - Type: text\n",
    "  - Usage: Full-text search across all fields\n",
    "  - Example: `filter(text=\"artist painter\")` \n",
    "\n",
    "- **id**: Search by LUX data URI\n",
    "  - Type: text\n",
    "  - Format: UUID v4 (8-4-4-4-12 format)\n",
    "  - Example: `filter(id=\"516e445f-ce33-414c-af05-efcc8f1de66a\")`\n",
    "\n",
    "- **identifier**: Search by external identifiers (ULAN, VIAF, Wikidata)\n",
    "  - Type: text\n",
    "  - Example: `filter(identifier=\"Q123456\")`"
   ]
  },
  {
   "cell_type": "code",
   "execution_count": 64,
   "metadata": {},
   "outputs": [],
   "source": [
    "from luxy import PeopleGroups"
   ]
  },
  {
   "cell_type": "markdown",
   "metadata": {},
   "source": [
    "#### name Filter"
   ]
  },
  {
   "cell_type": "code",
   "execution_count": 65,
   "metadata": {},
   "outputs": [
    {
     "name": "stdout",
     "output_type": "stream",
     "text": [
      "720\n",
      "https://lux.collections.yale.edu/view/results/people?q=%7B%22AND%22%3A%20%5B%7B%22name%22%3A%20%22John%20Smith%22%7D%5D%7D\n"
     ]
    }
   ],
   "source": [
    "pg = PeopleGroups().filter(name=\"John Smith\").get()\n",
    "\n",
    "print(pg.num_results)\n",
    "print(pg.view_url)"
   ]
  },
  {
   "cell_type": "markdown",
   "metadata": {},
   "source": [
    "#### text Filter"
   ]
  },
  {
   "cell_type": "code",
   "execution_count": 66,
   "metadata": {},
   "outputs": [
    {
     "name": "stdout",
     "output_type": "stream",
     "text": [
      "1027\n",
      "https://lux.collections.yale.edu/view/results/people?q=%7B%22AND%22%3A%20%5B%7B%22text%22%3A%20%22John%20Smith%22%7D%5D%7D\n"
     ]
    }
   ],
   "source": [
    "pg = PeopleGroups().filter(text=\"John Smith\").get()\n",
    "\n",
    "print(pg.num_results)\n",
    "print(pg.view_url)\n"
   ]
  },
  {
   "cell_type": "markdown",
   "metadata": {},
   "source": [
    "#### id Filter"
   ]
  },
  {
   "cell_type": "code",
   "execution_count": 67,
   "metadata": {},
   "outputs": [
    {
     "name": "stdout",
     "output_type": "stream",
     "text": [
      "0\n",
      "https://lux.collections.yale.edu/view/results/people?q=%7B%22AND%22%3A%20%5B%7B%22id%22%3A%20%22516e445f-ce33-414c-af05-efcc8f1de66a%22%7D%5D%7D\n"
     ]
    }
   ],
   "source": [
    "pg = PeopleGroups().filter(id=\"516e445f-ce33-414c-af05-efcc8f1de66a\").get()\n",
    "\n",
    "print(pg.num_results)\n",
    "print(pg.view_url)"
   ]
  },
  {
   "cell_type": "markdown",
   "metadata": {},
   "source": [
    "#### identifier Filter"
   ]
  },
  {
   "cell_type": "code",
   "execution_count": 68,
   "metadata": {},
   "outputs": [
    {
     "name": "stdout",
     "output_type": "stream",
     "text": [
      "0\n",
      "https://lux.collections.yale.edu/view/results/people?q=%7B%22AND%22%3A%20%5B%7B%22identifier%22%3A%20%2295296943%22%7D%5D%7D\n"
     ]
    }
   ],
   "source": [
    "pg = PeopleGroups().filter(identifier=\"95296943\").get()\n",
    "\n",
    "print(pg.num_results)\n",
    "print(pg.view_url)"
   ]
  },
  {
   "cell_type": "markdown",
   "metadata": {},
   "source": [
    "### Location Filters\n",
    "\n",
    "- **startAt**: Place where person was born or group was formed\n",
    "  - Type: place reference\n",
    "  - Example: `filter(startAt={\"name\": \"Paris\"})`\n",
    "\n",
    "- **endAt**: Place where person died or group was dissolved\n",
    "  - Type: place reference\n",
    "  - Example: `filter(endAt={\"name\": \"London\"})`\n",
    "\n",
    "- **activeAt**: Places where professionally active\n",
    "  - Type: place reference\n",
    "  - Example: `filter(activeAt={\"name\": \"New York\"})`"
   ]
  },
  {
   "cell_type": "markdown",
   "metadata": {},
   "source": [
    "#### startAt Filter"
   ]
  },
  {
   "cell_type": "code",
   "execution_count": 69,
   "metadata": {},
   "outputs": [
    {
     "name": "stdout",
     "output_type": "stream",
     "text": [
      "12559\n",
      "https://lux.collections.yale.edu/view/results/people?q=%7B%22AND%22%3A%20%5B%7B%22startAt%22%3A%20%7B%22name%22%3A%20%22Paris%22%7D%7D%5D%7D\n"
     ]
    }
   ],
   "source": [
    "pg = PeopleGroups().filter(startAt={\"name\": \"Paris\"}).get()\n",
    "\n",
    "print(pg.num_results)\n",
    "print(pg.view_url)"
   ]
  },
  {
   "cell_type": "markdown",
   "metadata": {},
   "source": [
    "#### endAt Filter"
   ]
  },
  {
   "cell_type": "code",
   "execution_count": 70,
   "metadata": {},
   "outputs": [
    {
     "name": "stdout",
     "output_type": "stream",
     "text": [
      "12645\n",
      "https://lux.collections.yale.edu/view/results/people?q=%7B%22AND%22%3A%20%5B%7B%22endAt%22%3A%20%7B%22name%22%3A%20%22London%22%7D%7D%5D%7D\n"
     ]
    }
   ],
   "source": [
    "pg = PeopleGroups().filter(endAt={\"name\": \"London\"}).get()\n",
    "\n",
    "print(pg.num_results)\n",
    "print(pg.view_url)"
   ]
  },
  {
   "cell_type": "markdown",
   "metadata": {},
   "source": [
    "#### activeAt Filter"
   ]
  },
  {
   "cell_type": "code",
   "execution_count": 71,
   "metadata": {},
   "outputs": [
    {
     "name": "stdout",
     "output_type": "stream",
     "text": [
      "10430\n",
      "https://lux.collections.yale.edu/view/results/people?q=%7B%22AND%22%3A%20%5B%7B%22activeAt%22%3A%20%7B%22name%22%3A%20%22New%20York%22%7D%7D%5D%7D\n"
     ]
    }
   ],
   "source": [
    "pg = PeopleGroups().filter(activeAt={\"name\": \"New York\"}).get()\n",
    "\n",
    "print(pg.num_results)\n",
    "print(pg.view_url)"
   ]
  },
  {
   "cell_type": "markdown",
   "metadata": {},
   "source": [
    "### Date Filters\n",
    "\n",
    "- **startDate**: Birth/formation date\n",
    "  - Type: date\n",
    "  - Format: ISO 8601 with millisecond precision and UTC timezone (YYYY-MM-DDT00:00:00.000Z)\n",
    "  - Supports comparison operators: \"==\", \"!=\", \">\", \">=\", \"<\", \"<=\"\n",
    "  - Examples: \n",
    "    - `filter(startDate=(\"1987-01-01T00:00:00.000Z\", \">=\"))` - Born after or on Jan 1, 1987\n",
    "    - `filter(startDate=(\"1987-01-01T00:00:00.000Z\", \"<\"))` - Born before 1987\n",
    "\n",
    "- **endDate**: Death/dissolution date\n",
    "  - Type: date\n",
    "  - Format: ISO 8601 with millisecond precision and UTC timezone\n",
    "  - Supports same comparison operators\n",
    "  - Examples:\n",
    "    - `filter(endDate=(\"1987-01-01T00:00:00.000Z\", \"<=\"))` - Died on or before Jan 1, 1987\n",
    "\n",
    "- **activeDate**: Dates of professional activity\n",
    "  - Type: date\n",
    "  - Format: ISO 8601 with millisecond precision and UTC timezone\n",
    "  - Supports same comparison operators\n",
    "  - Examples:\n",
    "    - With comparison: `filter(activeDate=(\"1987-01-01T00:00:00.000Z\", \">\"))` - Active after Jan 1, 1987"
   ]
  },
  {
   "cell_type": "markdown",
   "metadata": {},
   "source": [
    "#### startDate Filter"
   ]
  },
  {
   "cell_type": "code",
   "execution_count": 72,
   "metadata": {},
   "outputs": [
    {
     "name": "stdout",
     "output_type": "stream",
     "text": [
      "49231\n",
      "https://lux.collections.yale.edu/view/results/people?q=%7B%22AND%22%3A%20%5B%7B%22startDate%22%3A%20%221987-01-01T00%3A00%3A00.000Z%22%2C%20%22_comp%22%3A%20%22%3E%3D%22%7D%5D%7D\n"
     ]
    }
   ],
   "source": [
    "pg = PeopleGroups().filter(startDate=(\"1987-01-01T00:00:00.000Z\", \">=\")).get()\n",
    "\n",
    "print(pg.num_results)\n",
    "print(pg.view_url)"
   ]
  },
  {
   "cell_type": "markdown",
   "metadata": {},
   "source": [
    "#### endDate Filter"
   ]
  },
  {
   "cell_type": "code",
   "execution_count": 73,
   "metadata": {},
   "outputs": [
    {
     "name": "stdout",
     "output_type": "stream",
     "text": [
      "334524\n",
      "https://lux.collections.yale.edu/view/results/people?q=%7B%22AND%22%3A%20%5B%7B%22endDate%22%3A%20%221987-01-01T00%3A00%3A00.000Z%22%2C%20%22_comp%22%3A%20%22%3C%3D%22%7D%5D%7D\n"
     ]
    }
   ],
   "source": [
    "pg = PeopleGroups().filter(endDate=(\"1987-01-01T00:00:00.000Z\", \"<=\")).get()\n",
    "\n",
    "print(pg.num_results)\n",
    "print(pg.view_url)"
   ]
  },
  {
   "cell_type": "markdown",
   "metadata": {},
   "source": [
    "#### activeDate Filter"
   ]
  },
  {
   "cell_type": "code",
   "execution_count": 74,
   "metadata": {},
   "outputs": [
    {
     "name": "stdout",
     "output_type": "stream",
     "text": [
      "3545\n",
      "https://lux.collections.yale.edu/view/results/people?q=%7B%22AND%22%3A%20%5B%7B%22activeDate%22%3A%20%221987-01-01T00%3A00%3A00.000Z%22%2C%20%22_comp%22%3A%20%22%3E%22%7D%5D%7D\n"
     ]
    }
   ],
   "source": [
    "pg = PeopleGroups().filter(activeDate=(\"1987-01-01T00:00:00.000Z\", \">\")).get()\n",
    "\n",
    "print(pg.num_results)\n",
    "print(pg.view_url)"
   ]
  },
  {
   "cell_type": "markdown",
   "metadata": {},
   "source": [
    "### Professional and Biographical Filters\n",
    "\n",
    "- **occupation**: Search by occupation or role\n",
    "  - Type: concept reference\n",
    "  - Example: `filter(occupation={\"name\": \"Painter\"})`\n",
    "\n",
    "- **nationality**: Search by nationality\n",
    "  - Type: concept reference\n",
    "  - Example: `filter(nationality={\"name\": \"French\"})`\n",
    "\n",
    "- **gender**: Search by gender\n",
    "  - Type: concept reference\n",
    "  - Note: Information comes from external sources\n",
    "  - Example: `filter(gender={\"name\": \"Female\"})`"
   ]
  },
  {
   "cell_type": "markdown",
   "metadata": {},
   "source": [
    "#### occupation Filter"
   ]
  },
  {
   "cell_type": "code",
   "execution_count": 75,
   "metadata": {},
   "outputs": [
    {
     "name": "stdout",
     "output_type": "stream",
     "text": [
      "46499\n",
      "https://lux.collections.yale.edu/view/results/people?q=%7B%22AND%22%3A%20%5B%7B%22occupation%22%3A%20%7B%22name%22%3A%20%22Painter%22%7D%7D%5D%7D\n"
     ]
    }
   ],
   "source": [
    "pg = PeopleGroups().filter(occupation={\"name\": \"Painter\"}).get()\n",
    "\n",
    "print(pg.num_results)\n",
    "print(pg.view_url)"
   ]
  },
  {
   "cell_type": "markdown",
   "metadata": {},
   "source": [
    "#### nationality Filter"
   ]
  },
  {
   "cell_type": "code",
   "execution_count": 76,
   "metadata": {},
   "outputs": [
    {
     "name": "stdout",
     "output_type": "stream",
     "text": [
      "126157\n",
      "https://lux.collections.yale.edu/view/results/people?q=%7B%22AND%22%3A%20%5B%7B%22nationality%22%3A%20%7B%22name%22%3A%20%22French%22%7D%7D%5D%7D\n"
     ]
    }
   ],
   "source": [
    "pg = PeopleGroups().filter(nationality={\"name\": \"French\"}).get()\n",
    "\n",
    "print(pg.num_results)\n",
    "print(pg.view_url)"
   ]
  },
  {
   "cell_type": "markdown",
   "metadata": {},
   "source": [
    "#### gender Filter"
   ]
  },
  {
   "cell_type": "code",
   "execution_count": 77,
   "metadata": {},
   "outputs": [
    {
     "name": "stdout",
     "output_type": "stream",
     "text": [
      "422749\n",
      "https://lux.collections.yale.edu/view/results/people?q=%7B%22AND%22%3A%20%5B%7B%22gender%22%3A%20%7B%22name%22%3A%20%22Female%22%7D%7D%5D%7D\n"
     ]
    }
   ],
   "source": [
    "pg = PeopleGroups().filter(gender={\"name\": \"Female\"}).get()\n",
    "\n",
    "print(pg.num_results)\n",
    "print(pg.view_url)"
   ]
  },
  {
   "cell_type": "markdown",
   "metadata": {},
   "source": [
    "### Relationship Filters\n",
    "\n",
    "- **memberOf**: Groups that people/groups belong to\n",
    "  - Type: agent reference\n",
    "  - Example: `filter(memberOf={\"name\": \"Impressionist Movement\"})`\n",
    "\n",
    "- **memberOfInverse**: Search for groups containing specific members\n",
    "  - Type: agent reference\n",
    "  - Example: `filter(memberOfInverse={\"name\": \"Claude Monet\"})`\n",
    "\n",
    "- **foundedBy**: Groups founded by specific people\n",
    "  - Type: agent reference\n",
    "  - Example: `filter(foundedBy={\"name\": \"John Smith\"})`"
   ]
  },
  {
   "cell_type": "markdown",
   "metadata": {},
   "source": [
    "#### memberOf Filter"
   ]
  },
  {
   "cell_type": "code",
   "execution_count": 78,
   "metadata": {},
   "outputs": [
    {
     "name": "stdout",
     "output_type": "stream",
     "text": [
      "61\n",
      "https://lux.collections.yale.edu/view/results/people?q=%7B%22AND%22%3A%20%5B%7B%22memberOf%22%3A%20%7B%22name%22%3A%20%22Institut%20Diderot%22%7D%7D%5D%7D\n"
     ]
    }
   ],
   "source": [
    "pg = PeopleGroups().filter(memberOf={\"name\": \"Institut Diderot\"}).get()\n",
    "\n",
    "print(pg.num_results)\n",
    "print(pg.view_url)"
   ]
  },
  {
   "cell_type": "markdown",
   "metadata": {},
   "source": [
    "#### memberOfInverse Filter"
   ]
  },
  {
   "cell_type": "code",
   "execution_count": 79,
   "metadata": {},
   "outputs": [
    {
     "name": "stdout",
     "output_type": "stream",
     "text": [
      "1\n",
      "https://lux.collections.yale.edu/view/results/people?q=%7B%22AND%22%3A%20%5B%7B%22memberOfInverse%22%3A%20%7B%22name%22%3A%20%22Gourdeau%2C%20Camille%22%7D%7D%5D%7D\n"
     ]
    }
   ],
   "source": [
    "pg = PeopleGroups().filter(memberOfInverse={\"name\": \"Gourdeau, Camille\"}).get()\n",
    "\n",
    "print(pg.num_results)\n",
    "print(pg.view_url)"
   ]
  },
  {
   "cell_type": "markdown",
   "metadata": {},
   "source": [
    "#### foundedBy Filter"
   ]
  },
  {
   "cell_type": "code",
   "execution_count": 80,
   "metadata": {},
   "outputs": [
    {
     "name": "stdout",
     "output_type": "stream",
     "text": [
      "1\n",
      "https://lux.collections.yale.edu/view/results/people?q=%7B%22AND%22%3A%20%5B%7B%22foundedBy%22%3A%20%7B%22name%22%3A%20%22John%20Smith%22%7D%7D%5D%7D\n"
     ]
    }
   ],
   "source": [
    "pg = PeopleGroups().filter(foundedBy={\"name\": \"John Smith\"}).get()\n",
    "\n",
    "print(pg.num_results)\n",
    "print(pg.view_url)"
   ]
  },
  {
   "cell_type": "markdown",
   "metadata": {},
   "source": [
    "\n",
    "### Creative Work Filters\n",
    "\n",
    "- **created**: Works created by the person/group\n",
    "  - Type: work reference\n",
    "  - Example: `filter(created={\"name\": \"Portrait of Madame X\"})`\n",
    "\n",
    "- **produced**: Objects created by the person/group\n",
    "  - Type: item reference\n",
    "  - Example: `filter(produced={\"name\": \"Bronze Sculpture\"})`\n",
    "\n",
    "- **published**: Works published by the person/group\n",
    "  - Type: work reference\n",
    "  - Example: `filter(published={\"name\": \"Art History Journal\"})`"
   ]
  },
  {
   "cell_type": "markdown",
   "metadata": {},
   "source": [
    "#### created Filter"
   ]
  },
  {
   "cell_type": "code",
   "execution_count": 81,
   "metadata": {},
   "outputs": [
    {
     "name": "stdout",
     "output_type": "stream",
     "text": [
      "1\n",
      "https://lux.collections.yale.edu/view/results/people?q=%7B%22AND%22%3A%20%5B%7B%22created%22%3A%20%7B%22name%22%3A%20%22Portrait%20of%20Madame%20X%22%7D%7D%5D%7D\n"
     ]
    }
   ],
   "source": [
    "pg = PeopleGroups().filter(created={\"name\": \"Portrait of Madame X\"}).get()\n",
    "\n",
    "print(pg.num_results)\n",
    "print(pg.view_url)"
   ]
  },
  {
   "cell_type": "markdown",
   "metadata": {},
   "source": [
    "#### produced Filter"
   ]
  },
  {
   "cell_type": "code",
   "execution_count": 82,
   "metadata": {},
   "outputs": [
    {
     "name": "stdout",
     "output_type": "stream",
     "text": [
      "567\n",
      "https://lux.collections.yale.edu/view/results/people?q=%7B%22AND%22%3A%20%5B%7B%22produced%22%3A%20%7B%22name%22%3A%20%22Bronze%22%7D%7D%5D%7D\n"
     ]
    }
   ],
   "source": [
    "pg = PeopleGroups().filter(produced={\"name\": \"Bronze\"}).get()\n",
    "\n",
    "print(pg.num_results)\n",
    "print(pg.view_url)"
   ]
  },
  {
   "cell_type": "markdown",
   "metadata": {},
   "source": [
    "#### published Filter"
   ]
  },
  {
   "cell_type": "code",
   "execution_count": 83,
   "metadata": {},
   "outputs": [
    {
     "name": "stdout",
     "output_type": "stream",
     "text": [
      "2044\n",
      "https://lux.collections.yale.edu/view/results/people?q=%7B%22AND%22%3A%20%5B%7B%22published%22%3A%20%7B%22name%22%3A%20%22Art%22%7D%7D%5D%7D\n"
     ]
    }
   ],
   "source": [
    "pg = PeopleGroups().filter(published={\"name\": \"Art\"}).get()\n",
    "\n",
    "print(pg.num_results)\n",
    "print(pg.view_url)"
   ]
  },
  {
   "cell_type": "markdown",
   "metadata": {},
   "source": [
    "### Collection and Curation Filters\n",
    "\n",
    "- **curated**: Collections curated by the group\n",
    "  - Type: set reference\n",
    "  - Example: `filter(curated={\"name\": \"Modern Art Collection\"})`\n",
    "\n",
    "- **hasDigitalImage**: Filter for records with digital images\n",
    "  - Type: boolean\n",
    "  - Example: `filter(hasDigitalImage=True)`"
   ]
  },
  {
   "cell_type": "markdown",
   "metadata": {},
   "source": [
    "#### curated Filter"
   ]
  },
  {
   "cell_type": "code",
   "execution_count": 84,
   "metadata": {},
   "outputs": [
    {
     "name": "stdout",
     "output_type": "stream",
     "text": [
      "1\n",
      "https://lux.collections.yale.edu/view/results/people?q=%7B%22AND%22%3A%20%5B%7B%22curated%22%3A%20%7B%22name%22%3A%20%22Modern%20Art%20Collection%22%7D%7D%5D%7D\n"
     ]
    }
   ],
   "source": [
    "pg = PeopleGroups().filter(curated={\"name\": \"Modern Art Collection\"}).get()\n",
    "\n",
    "print(pg.num_results)\n",
    "print(pg.view_url)"
   ]
  },
  {
   "cell_type": "markdown",
   "metadata": {},
   "source": [
    "#### hasDigitalImage Filter"
   ]
  },
  {
   "cell_type": "code",
   "execution_count": 85,
   "metadata": {},
   "outputs": [
    {
     "name": "stdout",
     "output_type": "stream",
     "text": [
      "195885\n",
      "https://lux.collections.yale.edu/view/results/people?q=%7B%22AND%22%3A%20%5B%7B%22hasDigitalImage%22%3A%201%7D%5D%7D\n"
     ]
    }
   ],
   "source": [
    "pg = PeopleGroups().filter(hasDigitalImage=True).get()\n",
    "\n",
    "print(pg.num_results)\n",
    "print(pg.view_url)"
   ]
  },
  {
   "cell_type": "markdown",
   "metadata": {},
   "source": [
    "### Influence and Subject Filters\n",
    "\n",
    "- **influenced**: Concepts influenced by the person/group\n",
    "  - Type: concept reference\n",
    "  - Example: `filter(influenced={\"name\": \"Cubism\"})`\n",
    "\n",
    "- **influencedCreation**: Works influenced by the person/group\n",
    "  - Type: work reference\n",
    "  - Example: `filter(influencedCreation={\"name\": \"Les Demoiselles d'Avignon\"})`\n",
    "\n",
    "- **subjectOfAgent**: Works that feature the person/group as subject\n",
    "  - Type: work reference\n",
    "  - Example: `filter(subjectOfAgent={\"name\": \"Biography of Picasso\"})`"
   ]
  },
  {
   "cell_type": "markdown",
   "metadata": {},
   "source": [
    "#### influenced Filter"
   ]
  },
  {
   "cell_type": "code",
   "execution_count": 86,
   "metadata": {},
   "outputs": [
    {
     "name": "stdout",
     "output_type": "stream",
     "text": [
      "13527\n",
      "https://lux.collections.yale.edu/view/results/people?q=%7B%22AND%22%3A%20%5B%7B%22influenced%22%3A%20%7B%22name%22%3A%20%22Fiction%22%7D%7D%5D%7D\n"
     ]
    }
   ],
   "source": [
    "pg = PeopleGroups().filter(influenced={\"name\": \"Fiction\"}).get()\n",
    "\n",
    "print(pg.num_results)\n",
    "print(pg.view_url)"
   ]
  },
  {
   "cell_type": "markdown",
   "metadata": {},
   "source": [
    "#### influencedCreation Filter"
   ]
  },
  {
   "cell_type": "code",
   "execution_count": 87,
   "metadata": {},
   "outputs": [
    {
     "name": "stdout",
     "output_type": "stream",
     "text": [
      "0\n",
      "https://lux.collections.yale.edu/view/results/people?q=%7B%22AND%22%3A%20%5B%7B%22influencedCreation%22%3A%20%7B%22name%22%3A%20%22Lord%20of%20the%20Rings%22%7D%7D%5D%7D\n"
     ]
    }
   ],
   "source": [
    "pg = PeopleGroups().filter(influencedCreation={\"name\": \"Lord of the Rings\"}).get()\n",
    "\n",
    "print(pg.num_results)\n",
    "print(pg.view_url)"
   ]
  },
  {
   "cell_type": "markdown",
   "metadata": {},
   "source": [
    "#### subjectOfAgent Filter"
   ]
  },
  {
   "cell_type": "code",
   "execution_count": 88,
   "metadata": {},
   "outputs": [
    {
     "name": "stdout",
     "output_type": "stream",
     "text": [
      "2\n",
      "https://lux.collections.yale.edu/view/results/people?q=%7B%22AND%22%3A%20%5B%7B%22subjectOfAgent%22%3A%20%7B%22name%22%3A%20%22The%20Hobbit%22%7D%7D%5D%7D\n"
     ]
    }
   ],
   "source": [
    "pg = PeopleGroups().filter(subjectOfAgent={\"name\": \"The Hobbit\"}).get()\n",
    "\n",
    "print(pg.num_results)\n",
    "print(pg.view_url)"
   ]
  }
 ],
 "metadata": {
  "kernelspec": {
   "display_name": "base",
   "language": "python",
   "name": "python3"
  },
  "language_info": {
   "codemirror_mode": {
    "name": "ipython",
    "version": 3
   },
   "file_extension": ".py",
   "mimetype": "text/x-python",
   "name": "python",
   "nbconvert_exporter": "python",
   "pygments_lexer": "ipython3",
   "version": "3.12.7"
  }
 },
 "nbformat": 4,
 "nbformat_minor": 2
}
