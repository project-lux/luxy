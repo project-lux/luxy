{
 "cells": [
  {
   "cell_type": "markdown",
   "metadata": {},
   "source": [
    "## PeopleGroups (Draft)\n",
    "\n",
    "The PeopleGroups class provides an interface to search for people and groups in Yale's LUX collections database. This class inherits from BaseLux and provides specialized filtering capabilities for searching historical figures, artists, organizations, and other entities in Yale's collections.\n",
    "\n",
    "The PeopleGroups class allows you to search for both individual people and groups (organizations) using a variety of filters. You can search by basic information like names and dates, professional activities, relationships to works and objects, and various biographical details.\n",
    "\n",
    "In this section, we will break down each of the filters that we can use. We will separate all the filters into 6 categories:\n",
    "\n",
    "- Text Search Filters\n",
    "- Location Filters\n",
    "- Date Filters\n",
    "- Professional and Biographical Filters\n",
    "- Relationship Filters\n",
    "- Creative Work Filters\n",
    "- Collection and Curation Filters\n",
    "- Influence and Subject Filters\n",
    "\n",
    "### Text Search Filters\n",
    "\n",
    "Text filters are filters that take a pure text (string) input. These include the following:\n",
    "\n",
    "- `name`\n",
    "- `text`\n",
    "- `id`\n",
    "- `identifier`\n",
    "- `recordType`\n",
    "\n",
    "```{admonition} Text Search Filters Quick Reference\n",
    "<details>\n",
    "<summary>Click to expand</summary>\n",
    "\n",
    "| Filter | Type | Description | Example |\n",
    "|--------|------|-------------|---------|\n",
    "| **name** | text | Search within titles or names of people and groups | `filter(name=\"John Adams\")` |\n",
    "| **text** | text | Search anywhere in the record | `filter(text=\"John Adams\")` |\n",
    "| **id** | text | Search by LUX data URI | UUID v4 (8-4-4-4-12 format) | `filter(id=\"https://lux.collections.yale.edu/data/person/977a4f7a-5d26-4965-8dd9-3fb0eaa4267e\")` |\n",
    "| **identifier** | text | Search by external identifiers (ULAN, VIAF, Wikidata) | External identifier strings | `filter(identifier=\"http://www.wikidata.org/entity/Q11806\")` |\n",
    "| **recordType** | text | Search by record type | \"person\", \"group\" | `filter(recordType=\"person\")` |\n",
    "</details>\n",
    "```\n",
    "<br>\n",
    "To do explore this via the API, we need to first import the PeopleGroups class."
   ]
  },
  {
   "cell_type": "code",
   "execution_count": 64,
   "metadata": {},
   "outputs": [],
   "source": [
    "from luxy import PeopleGroups"
   ]
  },
  {
   "cell_type": "markdown",
   "metadata": {},
   "source": [
    "#### name Filter\n",
    "\n",
    "The `name` filter allows you to search within titles or names of people and groups. This filter is useful when you want to find specific individuals or organizations by their name. The search is case-insensitive and supports partial matches.\n",
    "\n",
    "For example, searching for \"John Smith\" will return any people or groups that have \"John Smith\" in their name or title. If we were to do this via the API, we would get the following results:\n"
   ]
  },
  {
   "cell_type": "code",
   "execution_count": 96,
   "metadata": {},
   "outputs": [
    {
     "name": "stdout",
     "output_type": "stream",
     "text": [
      "276\n",
      "https://lux.collections.yale.edu/view/results/people?q=%7B%22AND%22%3A%20%5B%7B%22name%22%3A%20%22John%20Adams%22%7D%5D%7D\n"
     ]
    }
   ],
   "source": [
    "pg = PeopleGroups().filter(name=\"John Adams\").get()\n",
    "\n",
    "print(pg.num_results)\n",
    "print(pg.view_url)"
   ]
  },
  {
   "cell_type": "markdown",
   "metadata": {},
   "source": [
    "#### text Filter\n",
    "\n",
    "The `text` filter allows you to search anywhere in the record. This filter is useful when you want to find specific individuals or organizations by their name. The search is case-insensitive and supports partial matches.\n",
    "\n",
    "For example, searching for \"John Adams\" will return any people or groups that have \"John Adams\" in their name, title, or any other text field. If we were to do this via the API, we would get the following results:"
   ]
  },
  {
   "cell_type": "code",
   "execution_count": 97,
   "metadata": {},
   "outputs": [
    {
     "name": "stdout",
     "output_type": "stream",
     "text": [
      "381\n",
      "https://lux.collections.yale.edu/view/results/people?q=%7B%22AND%22%3A%20%5B%7B%22text%22%3A%20%22John%20Adams%22%7D%5D%7D\n"
     ]
    }
   ],
   "source": [
    "pg = PeopleGroups().filter(text=\"John Adams\").get()\n",
    "\n",
    "print(pg.num_results)\n",
    "print(pg.view_url)\n"
   ]
  },
  {
   "cell_type": "markdown",
   "metadata": {},
   "source": [
    "#### id Filter\n",
    "\n",
    "In both of the examples above, we had numerous matches because we were searching for a very common name. In order to get a more specific result, we can use the `id` filter. The `id` filter allows you to search by the LUX data URI. This filter is useful when you want to find a specific individual or organization by their unique identifier.\n",
    "\n",
    "For example, searching for \"John Adams\" will return the specific individual or organization that has the LUX data URI \"https://lux.collections.yale.edu/data/person/977a4f7a-5d26-4965-8dd9-3fb0eaa4267e\". If we were to do this via the API, we would get the following results:\n"
   ]
  },
  {
   "cell_type": "code",
   "execution_count": 92,
   "metadata": {},
   "outputs": [
    {
     "name": "stdout",
     "output_type": "stream",
     "text": [
      "1\n",
      "https://lux.collections.yale.edu/view/results/people?q=%7B%22AND%22%3A%20%5B%7B%22id%22%3A%20%22https%3A//lux.collections.yale.edu/data/person/977a4f7a-5d26-4965-8dd9-3fb0eaa4267e%22%7D%5D%7D\n"
     ]
    }
   ],
   "source": [
    "pg = PeopleGroups().filter(id=\"https://lux.collections.yale.edu/data/person/977a4f7a-5d26-4965-8dd9-3fb0eaa4267e\").get()\n",
    "\n",
    "print(pg.num_results)\n",
    "print(pg.view_url)"
   ]
  },
  {
   "cell_type": "markdown",
   "metadata": {},
   "source": [
    "#### identifier Filter\n",
    "\n",
    "Another way to get a more specific result is to use the `identifier` filter. The `identifier` filter allows you to search by external identifiers (ULAN, VIAF, Wikidata). This filter is useful when you want to find a specific individual or organization by their unique identifier.\n",
    "\n",
    "For example, searching for \"John Adams\" will return the specific individual or organization that has the ULAN identifier \"http://www.wikidata.org/entity/Q11806\". If we were to do this via the API, we would get the following results:"
   ]
  },
  {
   "cell_type": "code",
   "execution_count": 95,
   "metadata": {},
   "outputs": [
    {
     "name": "stdout",
     "output_type": "stream",
     "text": [
      "1\n",
      "https://lux.collections.yale.edu/view/results/people?q=%7B%22AND%22%3A%20%5B%7B%22identifier%22%3A%20%22http%3A//www.wikidata.org/entity/Q11806%22%7D%5D%7D\n"
     ]
    }
   ],
   "source": [
    "pg = PeopleGroups().filter(identifier=\"http://www.wikidata.org/entity/Q11806\").get()\n",
    "\n",
    "print(pg.num_results)\n",
    "print(pg.view_url)"
   ]
  },
  {
   "cell_type": "markdown",
   "metadata": {},
   "source": [
    "#### recordType Filter\n",
    "\n",
    "The `recordType` filter allows you to search by the type of record. This filter is useful when you want to find a specific individual or organization by their type.\n",
    "\n",
    "For example, searching for \"John Adams\" and \"group\" will return the specific organizations that have the name \"John Adams\". If we were to do this via the API, we would get the following results:"
   ]
  },
  {
   "cell_type": "code",
   "execution_count": 100,
   "metadata": {},
   "outputs": [
    {
     "name": "stdout",
     "output_type": "stream",
     "text": [
      "11\n",
      "https://lux.collections.yale.edu/view/results/people?q=%7B%22AND%22%3A%20%5B%7B%22name%22%3A%20%22John%20Adams%22%7D%2C%20%7B%22recordType%22%3A%20%22group%22%7D%5D%7D\n"
     ]
    }
   ],
   "source": [
    "pg = PeopleGroups().filter(name=\"John Adams\", recordType=\"group\").get()\n",
    "\n",
    "print(pg.num_results)\n",
    "print(pg.view_url)"
   ]
  },
  {
   "cell_type": "markdown",
   "metadata": {},
   "source": [
    "### Location Filters\n",
    "\n",
    "Location filters are filters that take a place reference as input. Unlike string filters, place references require you to map an attribute to a place via a dictionary.\n",
    "\n",
    "- `startAt`\n",
    "- `endAt`\n",
    "- `activeAt`\n",
    "\n",
    "```{admonition} Location Filters Quick Reference\n",
    "<details>\n",
    "<summary>Click to expand</summary>\n",
    "\n",
    "| Filter | Type | Description | Example |\n",
    "|--------|------|-------------|---------|\n",
    "| **startAt** | place reference | Search for people or groups born or formed in a specific place | `filter(startAt={\"name\": \"Paris\"})` |\n",
    "| **endAt** | place reference | Search for people or groups died or dissolved in a specific place | `filter(endAt={\"name\": \"London\"})` |\n",
    "| **activeAt** | Search by LUX data URI | place reference | Search for people or groups active in a specific place | `filter(activeAt={\"name\": \"New York\"})` |\n",
    "</details>\n",
    "```\n",
    "<br>"
   ]
  },
  {
   "cell_type": "markdown",
   "metadata": {},
   "source": [
    "#### startAt Filter\n",
    "\n",
    "The `startAt` filter allows you to search for people or groups that were born or formed in a specific place."
   ]
  },
  {
   "cell_type": "code",
   "execution_count": 69,
   "metadata": {},
   "outputs": [
    {
     "name": "stdout",
     "output_type": "stream",
     "text": [
      "12559\n",
      "https://lux.collections.yale.edu/view/results/people?q=%7B%22AND%22%3A%20%5B%7B%22startAt%22%3A%20%7B%22name%22%3A%20%22Paris%22%7D%7D%5D%7D\n"
     ]
    }
   ],
   "source": [
    "pg = PeopleGroups().filter(startAt={\"name\": \"Paris\"}).get()\n",
    "\n",
    "print(pg.num_results)\n",
    "print(pg.view_url)"
   ]
  },
  {
   "cell_type": "markdown",
   "metadata": {},
   "source": [
    "#### endAt Filter\n",
    "\n",
    "The `endAt` filter allows you to search for people or groups that were died or dissolved in a specific place."
   ]
  },
  {
   "cell_type": "code",
   "execution_count": 70,
   "metadata": {},
   "outputs": [
    {
     "name": "stdout",
     "output_type": "stream",
     "text": [
      "12645\n",
      "https://lux.collections.yale.edu/view/results/people?q=%7B%22AND%22%3A%20%5B%7B%22endAt%22%3A%20%7B%22name%22%3A%20%22London%22%7D%7D%5D%7D\n"
     ]
    }
   ],
   "source": [
    "pg = PeopleGroups().filter(endAt={\"name\": \"London\"}).get()\n",
    "\n",
    "print(pg.num_results)\n",
    "print(pg.view_url)"
   ]
  },
  {
   "cell_type": "markdown",
   "metadata": {},
   "source": [
    "#### activeAt Filter\n",
    "\n",
    "The `activeAt` filter allows you to search for people or groups that were active in a specific place.\n"
   ]
  },
  {
   "cell_type": "code",
   "execution_count": 71,
   "metadata": {},
   "outputs": [
    {
     "name": "stdout",
     "output_type": "stream",
     "text": [
      "10430\n",
      "https://lux.collections.yale.edu/view/results/people?q=%7B%22AND%22%3A%20%5B%7B%22activeAt%22%3A%20%7B%22name%22%3A%20%22New%20York%22%7D%7D%5D%7D\n"
     ]
    }
   ],
   "source": [
    "pg = PeopleGroups().filter(activeAt={\"name\": \"New York\"}).get()\n",
    "\n",
    "print(pg.num_results)\n",
    "print(pg.view_url)"
   ]
  },
  {
   "cell_type": "markdown",
   "metadata": {},
   "source": [
    "### Date Filters\n",
    "\n",
    "Date filters are filters that take a ISO 8601 with millisecond precision and UTC timezone date as input. These include the following:\n",
    "\n",
    "- `startDate`\n",
    "- `endDate`\n",
    "- `activeDate`\n",
    "\n",
    "Since dates are temporal, we can use comparison operators to filter the dates. The comparison operators are:\n",
    "\n",
    "- `==`\n",
    "- `!=`\n",
    "- `>`\n",
    "- `>=`\n",
    "- `<`\n",
    "- `<=`\n",
    "\n",
    "Date filters are formatted as a tuple with the date and the comparison operator. Both are required.\n",
    "\n",
    "```{admonition} Date Filters Quick Reference\n",
    "<details>\n",
    "<summary>Click to expand</summary>\n",
    "\n",
    "| Filter | Type | Description | Example |\n",
    "|--------|------|-------------|---------|\n",
    "| **startDate** | date | Search for people or groups by birth/formation date. Accepts ISO 8601 date and comparison operator. | `filter(startDate=(\"1987-01-01T00:00:00.000Z\", \">=\"))` |\n",
    "| **endDate** | date | Search for people or groups by death/dissolution date. Accepts ISO 8601 date and comparison operator. | `filter(endDate=(\"1987-01-01T00:00:00.000Z\", \"<=\"))` |\n",
    "| **activeDate** | date | Search for people or groups by dates of professional activity. Accepts ISO 8601 date and comparison operator. | `filter(activeDate=(\"1987-01-01T00:00:00.000Z\", \">\"))` |\n",
    "# </details>\n",
    "```\n",
    "<br>"
   ]
  },
  {
   "cell_type": "markdown",
   "metadata": {},
   "source": [
    "#### startDate Filter\n",
    "\n",
    "The `startDate` filter allows you to search for people or groups that were born or formed in a specific date."
   ]
  },
  {
   "cell_type": "code",
   "execution_count": 72,
   "metadata": {},
   "outputs": [
    {
     "name": "stdout",
     "output_type": "stream",
     "text": [
      "49231\n",
      "https://lux.collections.yale.edu/view/results/people?q=%7B%22AND%22%3A%20%5B%7B%22startDate%22%3A%20%221987-01-01T00%3A00%3A00.000Z%22%2C%20%22_comp%22%3A%20%22%3E%3D%22%7D%5D%7D\n"
     ]
    }
   ],
   "source": [
    "pg = PeopleGroups().filter(startDate=(\"1987-01-01T00:00:00.000Z\", \">=\")).get()\n",
    "\n",
    "print(pg.num_results)\n",
    "print(pg.view_url)"
   ]
  },
  {
   "cell_type": "markdown",
   "metadata": {},
   "source": [
    "#### endDate Filter\n",
    "\n",
    "The `endDate` filter allows you to search for people or groups that were died or dissolved in a specific date."
   ]
  },
  {
   "cell_type": "code",
   "execution_count": 73,
   "metadata": {},
   "outputs": [
    {
     "name": "stdout",
     "output_type": "stream",
     "text": [
      "334524\n",
      "https://lux.collections.yale.edu/view/results/people?q=%7B%22AND%22%3A%20%5B%7B%22endDate%22%3A%20%221987-01-01T00%3A00%3A00.000Z%22%2C%20%22_comp%22%3A%20%22%3C%3D%22%7D%5D%7D\n"
     ]
    }
   ],
   "source": [
    "pg = PeopleGroups().filter(endDate=(\"1987-01-01T00:00:00.000Z\", \"<=\")).get()\n",
    "\n",
    "print(pg.num_results)\n",
    "print(pg.view_url)"
   ]
  },
  {
   "cell_type": "markdown",
   "metadata": {},
   "source": [
    "#### activeDate Filter\n",
    "\n",
    "The `activeDate` filter allows you to search for people or groups that were active in a specific date."
   ]
  },
  {
   "cell_type": "code",
   "execution_count": 74,
   "metadata": {},
   "outputs": [
    {
     "name": "stdout",
     "output_type": "stream",
     "text": [
      "3545\n",
      "https://lux.collections.yale.edu/view/results/people?q=%7B%22AND%22%3A%20%5B%7B%22activeDate%22%3A%20%221987-01-01T00%3A00%3A00.000Z%22%2C%20%22_comp%22%3A%20%22%3E%22%7D%5D%7D\n"
     ]
    }
   ],
   "source": [
    "pg = PeopleGroups().filter(activeDate=(\"1987-01-01T00:00:00.000Z\", \">\")).get()\n",
    "\n",
    "print(pg.num_results)\n",
    "print(pg.view_url)"
   ]
  },
  {
   "cell_type": "markdown",
   "metadata": {},
   "source": [
    "### Professional and Biographical Filters\n",
    "\n",
    "Professional and biographical filters are filters that take a concept reference as input. These include the following:\n",
    "\n",
    "- `occupation`\n",
    "- `nationality`\n",
    "- `gender`\n",
    "\n",
    "Like the Location filters, the professional and biographical filter attributes are mapped via a dictionary. The dictionary key is the attribute, such as name, and its value.\n",
    "\n",
    "```{admonition} Professional and Biographical Filters Quick Reference\n",
    "<details>\n",
    "<summary>Click to expand</summary>\n",
    "\n",
    "| Filter | Type | Description | Example |\n",
    "|--------|------|-------------|---------|\n",
    "| **occupation** | concept reference | Search for people or groups with a specific occupation or role | `filter(occupation={\"name\": \"Painter\"})` |\n",
    "| **nationality** | concept reference | Search for people or groups with a specific nationality | `filter(nationality={\"name\": \"French\"})` |\n",
    "| **gender** | concept reference | Search for people or groups with a specific gender | `filter(gender={\"name\": \"Female\"})` |\n",
    "</details>\n",
    "```\n",
    "<br>"
   ]
  },
  {
   "cell_type": "markdown",
   "metadata": {},
   "source": [
    "#### occupation Filter\n",
    "\n",
    "The `occupation` filter allows you to search for people or groups with a specific occupation or role."
   ]
  },
  {
   "cell_type": "code",
   "execution_count": 75,
   "metadata": {},
   "outputs": [
    {
     "name": "stdout",
     "output_type": "stream",
     "text": [
      "46499\n",
      "https://lux.collections.yale.edu/view/results/people?q=%7B%22AND%22%3A%20%5B%7B%22occupation%22%3A%20%7B%22name%22%3A%20%22Painter%22%7D%7D%5D%7D\n"
     ]
    }
   ],
   "source": [
    "pg = PeopleGroups().filter(occupation={\"name\": \"Painter\"}).get()\n",
    "\n",
    "print(pg.num_results)\n",
    "print(pg.view_url)"
   ]
  },
  {
   "cell_type": "markdown",
   "metadata": {},
   "source": [
    "#### nationality Filter\n",
    "\n",
    "The `nationality` filter allows you to search for people or groups with a specific nationality."
   ]
  },
  {
   "cell_type": "code",
   "execution_count": 76,
   "metadata": {},
   "outputs": [
    {
     "name": "stdout",
     "output_type": "stream",
     "text": [
      "126157\n",
      "https://lux.collections.yale.edu/view/results/people?q=%7B%22AND%22%3A%20%5B%7B%22nationality%22%3A%20%7B%22name%22%3A%20%22French%22%7D%7D%5D%7D\n"
     ]
    }
   ],
   "source": [
    "pg = PeopleGroups().filter(nationality={\"name\": \"French\"}).get()\n",
    "\n",
    "print(pg.num_results)\n",
    "print(pg.view_url)"
   ]
  },
  {
   "cell_type": "markdown",
   "metadata": {},
   "source": [
    "#### gender Filter\n",
    "\n",
    "The `gender` filter allows you to search for people or groups with a specific gender.\n"
   ]
  },
  {
   "cell_type": "code",
   "execution_count": 77,
   "metadata": {},
   "outputs": [
    {
     "name": "stdout",
     "output_type": "stream",
     "text": [
      "422749\n",
      "https://lux.collections.yale.edu/view/results/people?q=%7B%22AND%22%3A%20%5B%7B%22gender%22%3A%20%7B%22name%22%3A%20%22Female%22%7D%7D%5D%7D\n"
     ]
    }
   ],
   "source": [
    "pg = PeopleGroups().filter(gender={\"name\": \"Female\"}).get()\n",
    "\n",
    "print(pg.num_results)\n",
    "print(pg.view_url)"
   ]
  },
  {
   "cell_type": "markdown",
   "metadata": {},
   "source": [
    "### Relationship Filters\n",
    "\n",
    "Relationship filters are filters that take an agent reference as input. These include the following:  \n",
    "\n",
    "- `memberOf`\n",
    "- `memberOfInverse`\n",
    "- `foundedBy`\n",
    "\n",
    "```{admonition} Relationship Filters Quick Reference\n",
    "<details>\n",
    "<summary>Click to expand</summary>\n",
    "\n",
    "| Filter | Type | Description | Example |\n",
    "|--------|------|-------------|---------|\n",
    "| **memberOf** | agent reference | Groups that people/groups belong to | `filter(memberOf={\"name\": \"Impressionist Movement\"})` |\n",
    "| **memberOfInverse** | agent reference | Search for groups containing specific members | `filter(memberOfInverse={\"name\": \"Claude Monet\"})` |\n",
    "| **foundedBy** | agent reference | Groups founded by specific people | `filter(foundedBy={\"name\": \"John Smith\"})` |\n",
    "</details>\n",
    "```\n",
    "<br>"
   ]
  },
  {
   "cell_type": "markdown",
   "metadata": {},
   "source": [
    "#### memberOf Filter"
   ]
  },
  {
   "cell_type": "code",
   "execution_count": 78,
   "metadata": {},
   "outputs": [
    {
     "name": "stdout",
     "output_type": "stream",
     "text": [
      "61\n",
      "https://lux.collections.yale.edu/view/results/people?q=%7B%22AND%22%3A%20%5B%7B%22memberOf%22%3A%20%7B%22name%22%3A%20%22Institut%20Diderot%22%7D%7D%5D%7D\n"
     ]
    }
   ],
   "source": [
    "pg = PeopleGroups().filter(memberOf={\"name\": \"Institut Diderot\"}).get()\n",
    "\n",
    "print(pg.num_results)\n",
    "print(pg.view_url)"
   ]
  },
  {
   "cell_type": "markdown",
   "metadata": {},
   "source": [
    "#### memberOfInverse Filter"
   ]
  },
  {
   "cell_type": "code",
   "execution_count": 79,
   "metadata": {},
   "outputs": [
    {
     "name": "stdout",
     "output_type": "stream",
     "text": [
      "1\n",
      "https://lux.collections.yale.edu/view/results/people?q=%7B%22AND%22%3A%20%5B%7B%22memberOfInverse%22%3A%20%7B%22name%22%3A%20%22Gourdeau%2C%20Camille%22%7D%7D%5D%7D\n"
     ]
    }
   ],
   "source": [
    "pg = PeopleGroups().filter(memberOfInverse={\"name\": \"Gourdeau, Camille\"}).get()\n",
    "\n",
    "print(pg.num_results)\n",
    "print(pg.view_url)"
   ]
  },
  {
   "cell_type": "markdown",
   "metadata": {},
   "source": [
    "#### foundedBy Filter"
   ]
  },
  {
   "cell_type": "code",
   "execution_count": 80,
   "metadata": {},
   "outputs": [
    {
     "name": "stdout",
     "output_type": "stream",
     "text": [
      "1\n",
      "https://lux.collections.yale.edu/view/results/people?q=%7B%22AND%22%3A%20%5B%7B%22foundedBy%22%3A%20%7B%22name%22%3A%20%22John%20Smith%22%7D%7D%5D%7D\n"
     ]
    }
   ],
   "source": [
    "pg = PeopleGroups().filter(foundedBy={\"name\": \"John Smith\"}).get()\n",
    "\n",
    "print(pg.num_results)\n",
    "print(pg.view_url)"
   ]
  },
  {
   "cell_type": "markdown",
   "metadata": {},
   "source": [
    "\n",
    "### Creative Work Filters\n",
    "\n",
    "Creative work filters are filters that take a work reference as input. These include the following:\n",
    "\n",
    "- `created`\n",
    "- `produced`\n",
    "- `published`\n",
    "\n",
    "```{admonition} Creative Work Filters Quick Reference\n",
    "<details>\n",
    "<summary>Click to expand</summary>\n",
    "\n",
    "| Filter | Type | Description | Example |\n",
    "|--------|------|-------------|---------|\n",
    "| **created** | work reference | Works created by the person/group | `filter(created={\"name\": \"Portrait of Madame X\"})` |\n",
    "| **produced** | item reference | Objects created by the person/group | `filter(produced={\"name\": \"Bronze Sculpture\"})` |\n",
    "| **published** | work reference | Works published by the person/group | `filter(published={\"name\": \"Art History Journal\"})` |\n",
    "</details>\n",
    "```\n",
    "<br>"
   ]
  },
  {
   "cell_type": "markdown",
   "metadata": {},
   "source": [
    "#### created Filter"
   ]
  },
  {
   "cell_type": "code",
   "execution_count": 81,
   "metadata": {},
   "outputs": [
    {
     "name": "stdout",
     "output_type": "stream",
     "text": [
      "1\n",
      "https://lux.collections.yale.edu/view/results/people?q=%7B%22AND%22%3A%20%5B%7B%22created%22%3A%20%7B%22name%22%3A%20%22Portrait%20of%20Madame%20X%22%7D%7D%5D%7D\n"
     ]
    }
   ],
   "source": [
    "pg = PeopleGroups().filter(created={\"name\": \"Portrait of Madame X\"}).get()\n",
    "\n",
    "print(pg.num_results)\n",
    "print(pg.view_url)"
   ]
  },
  {
   "cell_type": "markdown",
   "metadata": {},
   "source": [
    "#### produced Filter"
   ]
  },
  {
   "cell_type": "code",
   "execution_count": 82,
   "metadata": {},
   "outputs": [
    {
     "name": "stdout",
     "output_type": "stream",
     "text": [
      "567\n",
      "https://lux.collections.yale.edu/view/results/people?q=%7B%22AND%22%3A%20%5B%7B%22produced%22%3A%20%7B%22name%22%3A%20%22Bronze%22%7D%7D%5D%7D\n"
     ]
    }
   ],
   "source": [
    "pg = PeopleGroups().filter(produced={\"name\": \"Bronze\"}).get()\n",
    "\n",
    "print(pg.num_results)\n",
    "print(pg.view_url)"
   ]
  },
  {
   "cell_type": "markdown",
   "metadata": {},
   "source": [
    "#### published Filter"
   ]
  },
  {
   "cell_type": "code",
   "execution_count": 83,
   "metadata": {},
   "outputs": [
    {
     "name": "stdout",
     "output_type": "stream",
     "text": [
      "2044\n",
      "https://lux.collections.yale.edu/view/results/people?q=%7B%22AND%22%3A%20%5B%7B%22published%22%3A%20%7B%22name%22%3A%20%22Art%22%7D%7D%5D%7D\n"
     ]
    }
   ],
   "source": [
    "pg = PeopleGroups().filter(published={\"name\": \"Art\"}).get()\n",
    "\n",
    "print(pg.num_results)\n",
    "print(pg.view_url)"
   ]
  },
  {
   "cell_type": "markdown",
   "metadata": {},
   "source": [
    "### Collection and Curation Filters\n",
    "\n",
    "Collection and curation filters are filters that take a set reference as input. These include the following:\n",
    "\n",
    "- `curated`\n",
    "- `hasDigitalImage`\n",
    "\n",
    "```{admonition} Collection and Curation Filters Quick Reference\n",
    "<details>\n",
    "<summary>Click to expand</summary>\n",
    "\n",
    "| Filter | Type | Description | Example |\n",
    "|--------|------|-------------|---------|\n",
    "| **curated** | set reference | Collections curated by the group | `filter(curated={\"name\": \"Modern Art Collection\"})` |\n",
    "| **hasDigitalImage** | boolean | Filter for records with digital images | `filter(hasDigitalImage=True)` |\n",
    "</details>\n",
    "```\n",
    "<br>"
   ]
  },
  {
   "cell_type": "markdown",
   "metadata": {},
   "source": [
    "#### curated Filter"
   ]
  },
  {
   "cell_type": "code",
   "execution_count": 84,
   "metadata": {},
   "outputs": [
    {
     "name": "stdout",
     "output_type": "stream",
     "text": [
      "1\n",
      "https://lux.collections.yale.edu/view/results/people?q=%7B%22AND%22%3A%20%5B%7B%22curated%22%3A%20%7B%22name%22%3A%20%22Modern%20Art%20Collection%22%7D%7D%5D%7D\n"
     ]
    }
   ],
   "source": [
    "pg = PeopleGroups().filter(curated={\"name\": \"Modern Art Collection\"}).get()\n",
    "\n",
    "print(pg.num_results)\n",
    "print(pg.view_url)"
   ]
  },
  {
   "cell_type": "markdown",
   "metadata": {},
   "source": [
    "#### hasDigitalImage Filter"
   ]
  },
  {
   "cell_type": "code",
   "execution_count": 85,
   "metadata": {},
   "outputs": [
    {
     "name": "stdout",
     "output_type": "stream",
     "text": [
      "195885\n",
      "https://lux.collections.yale.edu/view/results/people?q=%7B%22AND%22%3A%20%5B%7B%22hasDigitalImage%22%3A%201%7D%5D%7D\n"
     ]
    }
   ],
   "source": [
    "pg = PeopleGroups().filter(hasDigitalImage=True).get()\n",
    "\n",
    "print(pg.num_results)\n",
    "print(pg.view_url)"
   ]
  },
  {
   "cell_type": "markdown",
   "metadata": {},
   "source": [
    "### Influence and Subject Filters\n",
    "\n",
    "Influence and subject filters are filters that take a concept or work reference as input. These include the following:  \n",
    "\n",
    "- `influenced`\n",
    "- `influencedCreation`\n",
    "- `subjectOfAgent`\n",
    "\n",
    "```{admonition} Influence and Subject Filters Quick Reference\n",
    "<details>\n",
    "<summary>Click to expand</summary>\n",
    "\n",
    "| Filter | Type | Description | Example |\n",
    "|--------|------|-------------|---------|\n",
    "| **influenced** | concept reference | Concepts influenced by the person/group | `filter(influenced={\"name\": \"Cubism\"})` |\n",
    "| **influencedCreation** | work reference | Works influenced by the person/group | `filter(influencedCreation={\"name\": \"Les Demoiselles d'Avignon\"})` |\n",
    "| **subjectOfAgent** | work reference | Works that feature the person/group as subject | `filter(subjectOfAgent={\"name\": \"Biography of Picasso\"})` |\n",
    "</details>\n",
    "```\n",
    "<br>"
   ]
  },
  {
   "cell_type": "markdown",
   "metadata": {},
   "source": [
    "#### influenced Filter"
   ]
  },
  {
   "cell_type": "code",
   "execution_count": 86,
   "metadata": {},
   "outputs": [
    {
     "name": "stdout",
     "output_type": "stream",
     "text": [
      "13527\n",
      "https://lux.collections.yale.edu/view/results/people?q=%7B%22AND%22%3A%20%5B%7B%22influenced%22%3A%20%7B%22name%22%3A%20%22Fiction%22%7D%7D%5D%7D\n"
     ]
    }
   ],
   "source": [
    "pg = PeopleGroups().filter(influenced={\"name\": \"Fiction\"}).get()\n",
    "\n",
    "print(pg.num_results)\n",
    "print(pg.view_url)"
   ]
  },
  {
   "cell_type": "markdown",
   "metadata": {},
   "source": [
    "#### influencedCreation Filter"
   ]
  },
  {
   "cell_type": "code",
   "execution_count": 87,
   "metadata": {},
   "outputs": [
    {
     "name": "stdout",
     "output_type": "stream",
     "text": [
      "0\n",
      "https://lux.collections.yale.edu/view/results/people?q=%7B%22AND%22%3A%20%5B%7B%22influencedCreation%22%3A%20%7B%22name%22%3A%20%22Lord%20of%20the%20Rings%22%7D%7D%5D%7D\n"
     ]
    }
   ],
   "source": [
    "pg = PeopleGroups().filter(influencedCreation={\"name\": \"Lord of the Rings\"}).get()\n",
    "\n",
    "print(pg.num_results)\n",
    "print(pg.view_url)"
   ]
  },
  {
   "cell_type": "markdown",
   "metadata": {},
   "source": [
    "#### subjectOfAgent Filter"
   ]
  },
  {
   "cell_type": "code",
   "execution_count": 88,
   "metadata": {},
   "outputs": [
    {
     "name": "stdout",
     "output_type": "stream",
     "text": [
      "2\n",
      "https://lux.collections.yale.edu/view/results/people?q=%7B%22AND%22%3A%20%5B%7B%22subjectOfAgent%22%3A%20%7B%22name%22%3A%20%22The%20Hobbit%22%7D%7D%5D%7D\n"
     ]
    }
   ],
   "source": [
    "pg = PeopleGroups().filter(subjectOfAgent={\"name\": \"The Hobbit\"}).get()\n",
    "\n",
    "print(pg.num_results)\n",
    "print(pg.view_url)"
   ]
  }
 ],
 "metadata": {
  "kernelspec": {
   "display_name": "base",
   "language": "python",
   "name": "python3"
  },
  "language_info": {
   "codemirror_mode": {
    "name": "ipython",
    "version": 3
   },
   "file_extension": ".py",
   "mimetype": "text/x-python",
   "name": "python",
   "nbconvert_exporter": "python",
   "pygments_lexer": "ipython3",
   "version": "3.12.7"
  }
 },
 "nbformat": 4,
 "nbformat_minor": 2
}
