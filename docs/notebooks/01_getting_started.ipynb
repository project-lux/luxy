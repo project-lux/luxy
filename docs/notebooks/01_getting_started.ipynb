{
 "cells": [
  {
   "cell_type": "markdown",
   "metadata": {},
   "source": [
    "## Introduction to LuxY\n",
    "\n",
    "LuxY is a Python wrapper for Yale University's Lux API. The Lux API provides access to Yale's vast collections data, including information about objects, works, people, places, concepts, events and collections.\n",
    "\n",
    "This library makes it easy to:\n",
    "- Search across Yale's collections using filters and queries\n",
    "- Access detailed metadata about collection items\n",
    "- Navigate relationships between different entities (e.g. artists and their works)\n",
    "- Build complex queries with an intuitive Python interface\n",
    "\n",
    "The library provides simple Python classes that map to the main entity types in Lux:\n",
    "- PeopleGroups - for searching people and organizations\n",
    "- Objects - for searching physical objects\n",
    "- Works - for searching intellectual/creative works\n",
    "- Places - for searching locations\n",
    "- Concepts - for searching subjects and concepts\n",
    "- Events - for searching historical events\n",
    "- Collections - for searching sets/collections\n",
    "\n",
    "This JupyterBook will walk through the basics of using LuxY to interact with Yale's collections data."
   ]
  },
  {
   "cell_type": "markdown",
   "metadata": {},
   "source": [
    "## Installing LuxY\n",
    "\n",
    "LuxY can be installed via pip using the following command:"
   ]
  },
  {
   "cell_type": "code",
   "execution_count": 1,
   "metadata": {},
   "outputs": [
    {
     "name": "stdout",
     "output_type": "stream",
     "text": [
      "Requirement already satisfied: luxy in /opt/anaconda3/lib/python3.12/site-packages (0.0.2)\n",
      "Collecting luxy\n",
      "  Downloading luxy-0.0.3-py3-none-any.whl.metadata (8.6 kB)\n",
      "Requirement already satisfied: requests>=2.25.0 in /opt/anaconda3/lib/python3.12/site-packages (from luxy) (2.32.3)\n",
      "Requirement already satisfied: charset-normalizer<4,>=2 in /opt/anaconda3/lib/python3.12/site-packages (from requests>=2.25.0->luxy) (3.3.2)\n",
      "Requirement already satisfied: idna<4,>=2.5 in /opt/anaconda3/lib/python3.12/site-packages (from requests>=2.25.0->luxy) (3.7)\n",
      "Requirement already satisfied: urllib3<3,>=1.21.1 in /opt/anaconda3/lib/python3.12/site-packages (from requests>=2.25.0->luxy) (2.2.3)\n",
      "Requirement already satisfied: certifi>=2017.4.17 in /opt/anaconda3/lib/python3.12/site-packages (from requests>=2.25.0->luxy) (2024.8.30)\n",
      "Downloading luxy-0.0.3-py3-none-any.whl (11 kB)\n",
      "Installing collected packages: luxy\n",
      "  Attempting uninstall: luxy\n",
      "    Found existing installation: luxy 0.0.2\n",
      "    Uninstalling luxy-0.0.2:\n",
      "      Successfully uninstalled luxy-0.0.2\n",
      "Successfully installed luxy-0.0.3\n"
     ]
    }
   ],
   "source": [
    "!pip install luxy --upgrade"
   ]
  },
  {
   "cell_type": "markdown",
   "metadata": {},
   "source": [
    "## Importing LuxY\n",
    "\n",
    "Now that LuxY is installed, we can import it into our Python environment. To work with LuxY, our main entry points are the classes for each of the entity types. For example, to work with people and organizations, we can import the PeopleGroups class:"
   ]
  },
  {
   "cell_type": "code",
   "execution_count": 2,
   "metadata": {},
   "outputs": [],
   "source": [
    "from luxy import PeopleGroups"
   ]
  },
  {
   "cell_type": "markdown",
   "metadata": {},
   "source": [
    "## Getting Options for Filters\n",
    "\n",
    "Understanding what options are available for a filter is key to building effective queries. The `get_options()` method returns a dictionary of all the options available for a filter. The `list_filters()` method returns a list of all the filters available for a class."
   ]
  },
  {
   "cell_type": "code",
   "execution_count": 3,
   "metadata": {},
   "outputs": [
    {
     "data": {
      "text/plain": [
       "{'name': {'label': 'Name',\n",
       "  'description': 'Enter term(s) to be found within the title or name of the Person or Group. \"AND\", \"OR\", and \"-\" do not have special meaning in Advanced Search as they do in Simple Search. Instead use multiple fields connected with \"have All of\", \"have Any of\", and \"have None of\" respectively.',\n",
       "  'relation': 'text',\n",
       "  'allowedOptionsName': 'keyword',\n",
       "  'defaultOptionsName': 'keyword'},\n",
       " 'text': {'label': 'Anywhere',\n",
       "  'description': 'Search for People & Groups by terms anywhere in the record. \"AND\", \"OR\", and \"-\" do not have special meaning in Advanced Search as they do in Simple Search. Instead use multiple fields connected with \"have All of\", \"have Any of\", and \"have None of\" respectively.',\n",
       "  'relation': 'text',\n",
       "  'allowedOptionsName': 'keyword',\n",
       "  'defaultOptionsName': 'keyword'},\n",
       " 'startAt': {'label': 'Born/Formed At',\n",
       "  'description': 'Search for People & Groups that were born or formed in the specified Place.',\n",
       "  'relation': 'place',\n",
       "  'allowedOptionsName': 'keyword',\n",
       "  'defaultOptionsName': 'keyword'},\n",
       " 'startDate': {'label': 'Born/Formed Date',\n",
       "  'description': 'Search People & Groups by the date on which they were born or formed.',\n",
       "  'relation': 'date',\n",
       "  'allowedOptionsName': 'Unknown type',\n",
       "  'defaultOptionsName': 'Unknown type'},\n",
       " 'carriedOut': {'label': 'Carried Out',\n",
       "  'description': 'Search for People & Groups that carried out the specified Event.',\n",
       "  'relation': 'event',\n",
       "  'allowedOptionsName': 'Unknown type',\n",
       "  'defaultOptionsName': 'Unknown type'},\n",
       " 'classification': {'label': 'Categorized As',\n",
       "  'description': 'Search for People & Groups that are categorized with the specified Concept or Type terms.',\n",
       "  'relation': 'concept',\n",
       "  'allowedOptionsName': 'keyword',\n",
       "  'defaultOptionsName': 'keyword'},\n",
       " 'produced': {'label': 'Created Object',\n",
       "  'description': 'Search for People & Groups that created the specified Objects.',\n",
       "  'relation': 'item',\n",
       "  'allowedOptionsName': 'Unknown type',\n",
       "  'defaultOptionsName': 'Unknown type'},\n",
       " 'created': {'label': 'Created Works',\n",
       "  'description': 'Search for People & Groups that authored or created the specified Works.',\n",
       "  'relation': 'work',\n",
       "  'allowedOptionsName': 'Unknown type',\n",
       "  'defaultOptionsName': 'Unknown type'},\n",
       " 'curated': {'label': 'Curated',\n",
       "  'description': \"Search for Groups responsible for the curation of Yale's collections.\",\n",
       "  'relation': 'set',\n",
       "  'allowedOptionsName': 'Unknown type',\n",
       "  'defaultOptionsName': 'Unknown type'},\n",
       " 'endAt': {'label': 'Died/Dissolved At',\n",
       "  'description': 'Search for People & Groups that died or were dissolved in the specified Place.',\n",
       "  'relation': 'place',\n",
       "  'allowedOptionsName': 'keyword',\n",
       "  'defaultOptionsName': 'keyword'},\n",
       " 'endDate': {'label': 'Died/Dissolved Date',\n",
       "  'description': 'Search for People & Groups by the date on which they died or were dissolved.',\n",
       "  'relation': 'date',\n",
       "  'allowedOptionsName': 'Unknown type',\n",
       "  'defaultOptionsName': 'Unknown type'},\n",
       " 'encountered': {'label': 'Encountered',\n",
       "  'description': 'Search for People & Groups that encountered or found the specified Objects.',\n",
       "  'relation': 'item',\n",
       "  'allowedOptionsName': 'Unknown type',\n",
       "  'defaultOptionsName': 'Unknown type'},\n",
       " 'foundedBy': {'label': 'Founded By',\n",
       "  'description': 'Search for Groups by the specified People that were responsible for their foundation.',\n",
       "  'relation': 'agent',\n",
       "  'allowedOptionsName': 'keyword',\n",
       "  'defaultOptionsName': 'keyword'},\n",
       " 'founded': {'label': 'Founded Group',\n",
       "  'description': 'Search for People who were responsible for the foundation of the specified Groups.',\n",
       "  'relation': 'agent',\n",
       "  'allowedOptionsName': 'Unknown type',\n",
       "  'defaultOptionsName': 'Unknown type'},\n",
       " 'gender': {'label': 'Gender',\n",
       "  'description': 'Search for People by the specified Gender. This information comes from external sources, and gender information may not match expected results.',\n",
       "  'relation': 'concept',\n",
       "  'allowedOptionsName': 'keyword',\n",
       "  'defaultOptionsName': 'keyword'},\n",
       " 'hasDigitalImage': {'label': 'Have Digital Image',\n",
       "  'description': 'Search for People & Groups for which digital images are available.',\n",
       "  'relation': 'boolean',\n",
       "  'allowedOptionsName': 'exact',\n",
       "  'defaultOptionsName': 'exact'},\n",
       " 'memberOfInverse': {'label': 'Have Member',\n",
       "  'description': 'Search for Groups that have the specified People & Groups as members.',\n",
       "  'relation': 'agent',\n",
       "  'allowedOptionsName': 'Unknown type',\n",
       "  'defaultOptionsName': 'Unknown type'},\n",
       " 'id': {'label': 'ID',\n",
       "  'description': 'Search for People & Groups by their LUX data URI (e.g. starting with https://lux.collections.yale.edu/data/ and followed by a URI path containing a UUID, not the URI with /view/ in it).',\n",
       "  'relation': 'text',\n",
       "  'allowedOptionsName': 'Unknown type',\n",
       "  'defaultOptionsName': 'Unknown type'},\n",
       " 'identifier': {'label': 'Identifier',\n",
       "  'description': 'Search for People & Groups by a string identifier or an external authority URI, such as ULAN, VIAF or wikidata.',\n",
       "  'relation': 'text',\n",
       "  'allowedOptionsName': 'exact',\n",
       "  'defaultOptionsName': 'exact'},\n",
       " 'influenced': {'label': 'Influenced',\n",
       "  'description': 'Search for People & Groups that influenced the specified Concepts',\n",
       "  'relation': 'concept',\n",
       "  'allowedOptionsName': 'Unknown type',\n",
       "  'defaultOptionsName': 'Unknown type'},\n",
       " 'influencedProduction': {'label': 'Influenced Creation Of Objects',\n",
       "  'description': 'Search for People & Groups that influenced the creation of the specified Objects',\n",
       "  'relation': 'item',\n",
       "  'allowedOptionsName': 'Unknown type',\n",
       "  'defaultOptionsName': 'Unknown type'},\n",
       " 'influencedCreation': {'label': 'Influenced Creation Of Works',\n",
       "  'description': 'Search for People & Groups that influenced the creation of the specified Works',\n",
       "  'relation': 'work',\n",
       "  'allowedOptionsName': 'Unknown type',\n",
       "  'defaultOptionsName': 'Unknown type'},\n",
       " 'memberOf': {'label': 'Member of',\n",
       "  'description': 'Search for People & Groups that are members of other Groups.',\n",
       "  'relation': 'agent',\n",
       "  'allowedOptionsName': 'keyword',\n",
       "  'defaultOptionsName': 'keyword'},\n",
       " 'nationality': {'label': 'Nationality',\n",
       "  'description': 'Search for People & Groups with the specified Nationality.',\n",
       "  'relation': 'concept',\n",
       "  'allowedOptionsName': 'keyword',\n",
       "  'defaultOptionsName': 'keyword'},\n",
       " 'occupation': {'label': 'Occupation/Role',\n",
       "  'description': 'Search for People & Groups with the specified Occupation or Role.',\n",
       "  'relation': 'concept',\n",
       "  'allowedOptionsName': 'keyword',\n",
       "  'defaultOptionsName': 'keyword'},\n",
       " 'recordType': {'label': 'Person or Group Class',\n",
       "  'description': 'Search for records categorized as either a \"Person\" or a \"Group\". Person is an individual either real or fictionalized. Group is an organization, either real or fictionalized, with one or more members.',\n",
       "  'relation': 'text',\n",
       "  'allowedOptionsName': 'keyword',\n",
       "  'defaultOptionsName': 'Unknown type'},\n",
       " 'professionalActivity': {'label': 'Professional Activity Categorized As',\n",
       "  'description': 'Search for people and groups that carried out professional activities of the given categorization.',\n",
       "  'relation': 'concept',\n",
       "  'allowedOptionsName': 'keyword',\n",
       "  'defaultOptionsName': 'keyword'},\n",
       " 'activeAt': {'label': 'Professionally Active At',\n",
       "  'description': 'Search for People & Groups that were professionally active in the specified Places.',\n",
       "  'relation': 'place',\n",
       "  'allowedOptionsName': 'keyword',\n",
       "  'defaultOptionsName': 'keyword'},\n",
       " 'activeDate': {'label': 'Professionally Active Date',\n",
       "  'description': 'Search for People & Groups by the dates on which they were professionally active.',\n",
       "  'relation': 'date',\n",
       "  'allowedOptionsName': 'Unknown type',\n",
       "  'defaultOptionsName': 'Unknown type'},\n",
       " 'published': {'label': 'Published',\n",
       "  'description': 'Search for People & Groups that published the specified Works.',\n",
       "  'relation': 'work',\n",
       "  'allowedOptionsName': 'Unknown type',\n",
       "  'defaultOptionsName': 'Unknown type'},\n",
       " 'subjectOfAgent': {'label': 'Subject Of',\n",
       "  'description': 'Search for People & Groups that are the subject of the specified Works.',\n",
       "  'relation': 'work',\n",
       "  'allowedOptionsName': 'Unknown type',\n",
       "  'defaultOptionsName': 'Unknown type'}}"
      ]
     },
     "execution_count": 3,
     "metadata": {},
     "output_type": "execute_result"
    }
   ],
   "source": [
    "PeopleGroups().get_options()"
   ]
  },
  {
   "cell_type": "markdown",
   "metadata": {},
   "source": [
    "This is a large dictionary, which can be a bit difficult to parse. The `list_filters()` method returns a list of all the filters available for a class."
   ]
  },
  {
   "cell_type": "code",
   "execution_count": 10,
   "metadata": {},
   "outputs": [
    {
     "name": "stdout",
     "output_type": "stream",
     "text": [
      "\n",
      "Available filters for agent:\n",
      "--------------------------------------------------\n",
      "\n",
      "name (Name) - (text):\n",
      "  Description: Enter term(s) to be found within the title or name of the Person or Group. \"AND\", \"OR\", and \"-\" do not have special meaning in Advanced Search as they do in Simple Search. Instead use multiple fields connected with \"have All of\", \"have Any of\", and \"have None of\" respectively.\n",
      "\n",
      "text (Anywhere) - (text):\n",
      "  Description: Search for People & Groups by terms anywhere in the record. \"AND\", \"OR\", and \"-\" do not have special meaning in Advanced Search as they do in Simple Search. Instead use multiple fields connected with \"have All of\", \"have Any of\", and \"have None of\" respectively.\n",
      "\n",
      "startAt (Born/Formed At) - (place):\n",
      "  Description: Search for People & Groups that were born or formed in the specified Place.\n",
      "\n",
      "startDate (Born/Formed Date) - (date):\n",
      "  Description: Search People & Groups by the date on which they were born or formed.\n",
      "\n",
      "carriedOut (Carried Out) - (event):\n",
      "  Description: Search for People & Groups that carried out the specified Event.\n",
      "\n",
      "classification (Categorized As) - (concept):\n",
      "  Description: Search for People & Groups that are categorized with the specified Concept or Type terms.\n",
      "\n",
      "produced (Created Object) - (item):\n",
      "  Description: Search for People & Groups that created the specified Objects.\n",
      "\n",
      "created (Created Works) - (work):\n",
      "  Description: Search for People & Groups that authored or created the specified Works.\n",
      "\n",
      "curated (Curated) - (set):\n",
      "  Description: Search for Groups responsible for the curation of Yale's collections.\n",
      "\n",
      "endAt (Died/Dissolved At) - (place):\n",
      "  Description: Search for People & Groups that died or were dissolved in the specified Place.\n",
      "\n",
      "endDate (Died/Dissolved Date) - (date):\n",
      "  Description: Search for People & Groups by the date on which they died or were dissolved.\n",
      "\n",
      "encountered (Encountered) - (item):\n",
      "  Description: Search for People & Groups that encountered or found the specified Objects.\n",
      "\n",
      "foundedBy (Founded By) - (agent):\n",
      "  Description: Search for Groups by the specified People that were responsible for their foundation.\n",
      "\n",
      "founded (Founded Group) - (agent):\n",
      "  Description: Search for People who were responsible for the foundation of the specified Groups.\n",
      "\n",
      "gender (Gender) - (concept):\n",
      "  Description: Search for People by the specified Gender. This information comes from external sources, and gender information may not match expected results.\n",
      "\n",
      "hasDigitalImage (Have Digital Image) - (boolean):\n",
      "  Description: Search for People & Groups for which digital images are available.\n",
      "\n",
      "memberOfInverse (Have Member) - (agent):\n",
      "  Description: Search for Groups that have the specified People & Groups as members.\n",
      "\n",
      "id (ID) - (text):\n",
      "  Description: Search for People & Groups by their LUX data URI (e.g. starting with https://lux.collections.yale.edu/data/ and followed by a URI path containing a UUID, not the URI with /view/ in it).\n",
      "\n",
      "identifier (Identifier) - (text):\n",
      "  Description: Search for People & Groups by a string identifier or an external authority URI, such as ULAN, VIAF or wikidata.\n",
      "\n",
      "influenced (Influenced) - (concept):\n",
      "  Description: Search for People & Groups that influenced the specified Concepts\n",
      "\n",
      "influencedProduction (Influenced Creation Of Objects) - (item):\n",
      "  Description: Search for People & Groups that influenced the creation of the specified Objects\n",
      "\n",
      "influencedCreation (Influenced Creation Of Works) - (work):\n",
      "  Description: Search for People & Groups that influenced the creation of the specified Works\n",
      "\n",
      "memberOf (Member of) - (agent):\n",
      "  Description: Search for People & Groups that are members of other Groups.\n",
      "\n",
      "nationality (Nationality) - (concept):\n",
      "  Description: Search for People & Groups with the specified Nationality.\n",
      "\n",
      "occupation (Occupation/Role) - (concept):\n",
      "  Description: Search for People & Groups with the specified Occupation or Role.\n",
      "\n",
      "recordType (Person or Group Class) - (text):\n",
      "  Description: Search for records categorized as either a \"Person\" or a \"Group\". Person is an individual either real or fictionalized. Group is an organization, either real or fictionalized, with one or more members.\n",
      "\n",
      "professionalActivity (Professional Activity Categorized As) - (concept):\n",
      "  Description: Search for people and groups that carried out professional activities of the given categorization.\n",
      "\n",
      "activeAt (Professionally Active At) - (place):\n",
      "  Description: Search for People & Groups that were professionally active in the specified Places.\n",
      "\n",
      "activeDate (Professionally Active Date) - (date):\n",
      "  Description: Search for People & Groups by the dates on which they were professionally active.\n",
      "\n",
      "published (Published) - (work):\n",
      "  Description: Search for People & Groups that published the specified Works.\n",
      "\n",
      "subjectOfAgent (Subject Of) - (work):\n",
      "  Description: Search for People & Groups that are the subject of the specified Works.\n"
     ]
    }
   ],
   "source": [
    "PeopleGroups().list_filters()"
   ]
  },
  {
   "cell_type": "markdown",
   "metadata": {},
   "source": [
    "Here, we can see all available filters for the PeopleGroups class. Each class has a different set of filters, and the options for each filter are different. These filters are used to build complex queries, which we will explore in the next section."
   ]
  },
  {
   "cell_type": "markdown",
   "metadata": {},
   "source": [
    "## Building a Filter\n",
    "\n",
    "In order to build a filter, we can use the `filter()` method. This method takes a keyword argument for each filter, and returns a new class with the filter applied. While some data types, like numbers and dates, require specific syntax, most filters can be applied using simple strings.\n",
    "\n",
    "Here, we will search for people with the name \"John\". This query will return a list of People and Groups with the name \"John\" in Lux. In order to access the results, we can use the `get()` method. This method returns a `QueryResult` object, which contains the results of the query, as well as metadata about the query."
   ]
  },
  {
   "cell_type": "code",
   "execution_count": 5,
   "metadata": {},
   "outputs": [],
   "source": [
    "pg = PeopleGroups().filter(name=\"John\").get()"
   ]
  },
  {
   "cell_type": "markdown",
   "metadata": {},
   "source": [
    "Once we have a `QueryResult` object, we can access the metadata about the query, as well as the results. First, let's look at the number of results and the URL of the query. We can do this using the `num_results`."
   ]
  },
  {
   "cell_type": "code",
   "execution_count": 14,
   "metadata": {},
   "outputs": [
    {
     "name": "stdout",
     "output_type": "stream",
     "text": [
      "107044\n"
     ]
    }
   ],
   "source": [
    "print(pg.num_results)"
   ]
  },
  {
   "cell_type": "markdown",
   "metadata": {},
   "source": [
    "Often when working with large datasets, we will want to access the URL of the query. We can do this using the `url` attribute. This will take us to the API JSON results page."
   ]
  },
  {
   "cell_type": "code",
   "execution_count": 13,
   "metadata": {},
   "outputs": [
    {
     "name": "stdout",
     "output_type": "stream",
     "text": [
      "https://lux.collections.yale.edu/api/search/agent?q=%7B%22AND%22%3A%20%5B%7B%22name%22%3A%20%22John%22%7D%5D%7D\n"
     ]
    }
   ],
   "source": [
    "print(pg.url)"
   ]
  },
  {
   "cell_type": "markdown",
   "metadata": {},
   "source": [
    "While this is programmatically useful, it is not very user-friendly. The `view_url` attribute returns a URL that will take us to the Lux results page."
   ]
  },
  {
   "cell_type": "code",
   "execution_count": 12,
   "metadata": {},
   "outputs": [
    {
     "name": "stdout",
     "output_type": "stream",
     "text": [
      "https://lux.collections.yale.edu/view/results/people?q=%7B%22AND%22%3A%20%5B%7B%22name%22%3A%20%22John%22%7D%5D%7D\n"
     ]
    }
   ],
   "source": [
    "print(pg.view_url)"
   ]
  },
  {
   "cell_type": "markdown",
   "metadata": {},
   "source": [
    "As we will see a bit later, it is often useful to access the JSON data returned by the API. We can do this using the `json` attribute. This will allow us to do things like exmaine all results by page and even download the data for each object."
   ]
  },
  {
   "cell_type": "code",
   "execution_count": 11,
   "metadata": {},
   "outputs": [
    {
     "name": "stdout",
     "output_type": "stream",
     "text": [
      "{'@context': 'https://linked.art/ns/v1/search.json', 'id': 'https://lux.collections.yale.edu/api/search/agent?q=%7B%22AND%22%3A%5B%7B%22name%22%3A%22John%22%7D%5D%7D&page=1&pageLength=20', 'type': 'OrderedCollectionPage', 'partOf': [{'id': 'https://lux.collections.yale.edu/api/search-estimate/agent?q=%7B%22AND%22%3A%5B%7B%22name%22%3A%22John%22%7D%5D%7D', 'type': 'OrderedCollection', 'label': {'en': ['People & Groups']}, 'summary': {'en': ['Records representing individuals and organizations that match your search.']}, 'totalItems': 107044}], 'orderedItems': [{'id': 'https://lux.collections.yale.edu/data/person/e7e1885c-666c-46ef-a44e-d9d65de1946e', 'type': 'Person'}, {'id': 'https://lux.collections.yale.edu/data/person/81eff8bf-8b21-4070-8705-799693c8de56', 'type': 'Person'}, {'id': 'https://lux.collections.yale.edu/data/person/f46087a4-9c6b-43f8-a6aa-a9b7ebd773b5', 'type': 'Person'}, {'id': 'https://lux.collections.yale.edu/data/person/15baa1fc-f6a8-4204-a45c-70b01f8c95e8', 'type': 'Person'}, {'id': 'https://lux.collections.yale.edu/data/person/8dd43025-0583-4597-93a3-460be970d68e', 'type': 'Person'}, {'id': 'https://lux.collections.yale.edu/data/person/47a93f86-2483-4109-9f83-b9624dfc36e3', 'type': 'Person'}, {'id': 'https://lux.collections.yale.edu/data/person/e7ce8ff7-2fad-4ae3-a21e-297482a76849', 'type': 'Person'}, {'id': 'https://lux.collections.yale.edu/data/person/3c267f42-4792-4256-990a-abd92f24b63e', 'type': 'Person'}, {'id': 'https://lux.collections.yale.edu/data/person/0e77a4ab-a2bf-464b-9cd4-5fa9007ab197', 'type': 'Person'}, {'id': 'https://lux.collections.yale.edu/data/person/41ae356b-a58e-4b69-81b8-755acf6979dd', 'type': 'Person'}, {'id': 'https://lux.collections.yale.edu/data/person/584ae665-c318-4a31-a514-ea3068e99be5', 'type': 'Person'}, {'id': 'https://lux.collections.yale.edu/data/person/607068d3-0e95-4e7f-a1fd-d0e9333cb7d8', 'type': 'Person'}, {'id': 'https://lux.collections.yale.edu/data/group/adc84bbb-3d98-4328-bd1b-bb7b532df313', 'type': 'Group'}, {'id': 'https://lux.collections.yale.edu/data/person/d82c70e7-4ad6-420a-989d-cdec596220ec', 'type': 'Person'}, {'id': 'https://lux.collections.yale.edu/data/person/e3cb13b0-7dad-4eec-b0f7-bad6c609b69b', 'type': 'Person'}, {'id': 'https://lux.collections.yale.edu/data/person/a85b781b-0286-4cde-845a-d12a00e0d0c2', 'type': 'Person'}, {'id': 'https://lux.collections.yale.edu/data/person/2cdfe011-9d18-4105-8b6e-22b75c6e5f39', 'type': 'Person'}, {'id': 'https://lux.collections.yale.edu/data/person/fa4746d1-6186-4353-bb39-ed31b3b9266e', 'type': 'Person'}, {'id': 'https://lux.collections.yale.edu/data/person/1699b6c5-3954-46b1-addf-fd0d933c91a9', 'type': 'Person'}, {'id': 'https://lux.collections.yale.edu/data/person/9d8353c3-1923-428e-a814-0fb1a779ecec', 'type': 'Person'}], 'next': {'id': 'https://lux.collections.yale.edu/api/search/agent?q=%7B%22AND%22%3A%5B%7B%22name%22%3A%22John%22%7D%5D%7D&page=2&pageLength=20', 'type': 'OrderedCollectionPage'}}\n"
     ]
    }
   ],
   "source": [
    "print(pg.json)"
   ]
  },
  {
   "cell_type": "code",
   "execution_count": null,
   "metadata": {},
   "outputs": [],
   "source": []
  }
 ],
 "metadata": {
  "kernelspec": {
   "display_name": "base",
   "language": "python",
   "name": "python3"
  },
  "language_info": {
   "codemirror_mode": {
    "name": "ipython",
    "version": 3
   },
   "file_extension": ".py",
   "mimetype": "text/x-python",
   "name": "python",
   "nbconvert_exporter": "python",
   "pygments_lexer": "ipython3",
   "version": "3.12.7"
  }
 },
 "nbformat": 4,
 "nbformat_minor": 2
}
